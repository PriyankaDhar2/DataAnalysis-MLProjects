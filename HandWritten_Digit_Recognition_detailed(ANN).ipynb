{
  "nbformat": 4,
  "nbformat_minor": 0,
  "metadata": {
    "colab": {
      "provenance": [],
      "include_colab_link": true
    },
    "kernelspec": {
      "name": "python3",
      "display_name": "Python 3"
    },
    "language_info": {
      "name": "python"
    },
    "accelerator": "GPU",
    "gpuClass": "standard"
  },
  "cells": [
    {
      "cell_type": "markdown",
      "metadata": {
        "id": "view-in-github",
        "colab_type": "text"
      },
      "source": [
        "<a href=\"https://colab.research.google.com/github/PriyankaDhar2/Minor-Projects/blob/main/HandWritten_Digit_Recognition_detailed(ANN).ipynb\" target=\"_parent\"><img src=\"https://colab.research.google.com/assets/colab-badge.svg\" alt=\"Open In Colab\"/></a>"
      ]
    },
    {
      "cell_type": "markdown",
      "source": [
        "# Prerequisite libraries"
      ],
      "metadata": {
        "id": "C0sNEWvOHqiI"
      }
    },
    {
      "cell_type": "code",
      "source": [
        "!pip install tensorflow --upgrade --quiet"
      ],
      "metadata": {
        "id": "8cPO-u2rC85u"
      },
      "execution_count": null,
      "outputs": []
    },
    {
      "cell_type": "code",
      "source": [
        "!nvidia-smi"
      ],
      "metadata": {
        "colab": {
          "base_uri": "https://localhost:8080/"
        },
        "id": "gP5m1tabDXaH",
        "outputId": "60aaf5f1-417a-44e3-818d-f52c306cad1d"
      },
      "execution_count": null,
      "outputs": [
        {
          "output_type": "stream",
          "name": "stdout",
          "text": [
            "Sun Apr 16 05:18:35 2023       \n",
            "+-----------------------------------------------------------------------------+\n",
            "| NVIDIA-SMI 525.85.12    Driver Version: 525.85.12    CUDA Version: 12.0     |\n",
            "|-------------------------------+----------------------+----------------------+\n",
            "| GPU  Name        Persistence-M| Bus-Id        Disp.A | Volatile Uncorr. ECC |\n",
            "| Fan  Temp  Perf  Pwr:Usage/Cap|         Memory-Usage | GPU-Util  Compute M. |\n",
            "|                               |                      |               MIG M. |\n",
            "|===============================+======================+======================|\n",
            "|   0  Tesla T4            Off  | 00000000:00:04.0 Off |                    0 |\n",
            "| N/A   67C    P8     9W /  70W |      0MiB / 15360MiB |      0%      Default |\n",
            "|                               |                      |                  N/A |\n",
            "+-------------------------------+----------------------+----------------------+\n",
            "                                                                               \n",
            "+-----------------------------------------------------------------------------+\n",
            "| Processes:                                                                  |\n",
            "|  GPU   GI   CI        PID   Type   Process name                  GPU Memory |\n",
            "|        ID   ID                                                   Usage      |\n",
            "|=============================================================================|\n",
            "|  No running processes found                                                 |\n",
            "+-----------------------------------------------------------------------------+\n"
          ]
        }
      ]
    },
    {
      "cell_type": "markdown",
      "source": [
        "Libraries import"
      ],
      "metadata": {
        "id": "_B-90qCSDCFf"
      }
    },
    {
      "cell_type": "code",
      "execution_count": null,
      "metadata": {
        "id": "hZ7gpGarcSqF"
      },
      "outputs": [],
      "source": [
        "import seaborn as sns\n",
        "import pandas as pd\n",
        "import matplotlib.pyplot as plt\n",
        "import numpy as np\n",
        "from tensorflow import keras\n",
        "from tensorflow.keras.datasets import mnist"
      ]
    },
    {
      "cell_type": "markdown",
      "source": [
        "# MNIST Digit Recognition"
      ],
      "metadata": {
        "id": "m3ZR08yJcTkO"
      }
    },
    {
      "cell_type": "markdown",
      "source": [
        "load the dataset and split into train and test part"
      ],
      "metadata": {
        "id": "kchA6HEDDFOy"
      }
    },
    {
      "cell_type": "code",
      "source": [
        "(X_train, y_train), (X_test, y_test) = mnist.load_data()"
      ],
      "metadata": {
        "id": "Z1ecAbWhePTb",
        "colab": {
          "base_uri": "https://localhost:8080/"
        },
        "outputId": "1dce3a33-50c0-400f-b8e5-4b0fe0a9e750"
      },
      "execution_count": null,
      "outputs": [
        {
          "output_type": "stream",
          "name": "stdout",
          "text": [
            "Downloading data from https://storage.googleapis.com/tensorflow/tf-keras-datasets/mnist.npz\n",
            "11490434/11490434 [==============================] - 1s 0us/step\n"
          ]
        }
      ]
    },
    {
      "cell_type": "code",
      "source": [
        "X_train.shape"
      ],
      "metadata": {
        "colab": {
          "base_uri": "https://localhost:8080/"
        },
        "id": "-hjQ-g0GloBD",
        "outputId": "d1bb1ad9-8891-4173-d627-6074f3b1633c"
      },
      "execution_count": null,
      "outputs": [
        {
          "output_type": "execute_result",
          "data": {
            "text/plain": [
              "(60000, 28, 28)"
            ]
          },
          "metadata": {},
          "execution_count": 5
        }
      ]
    },
    {
      "cell_type": "markdown",
      "source": [
        "plotting the first image and answer"
      ],
      "metadata": {
        "id": "T-XlapLjL6vD"
      }
    },
    {
      "cell_type": "code",
      "source": [
        "print(y_train[0])\n",
        "plt.imshow(X_train[0])\n",
        "plt.show()"
      ],
      "metadata": {
        "colab": {
          "base_uri": "https://localhost:8080/",
          "height": 282
        },
        "id": "YH93Esrve4Hx",
        "outputId": "084ba182-bdf3-4aab-ee8a-adf3c866b4ae"
      },
      "execution_count": null,
      "outputs": [
        {
          "output_type": "stream",
          "name": "stdout",
          "text": [
            "5\n"
          ]
        },
        {
          "output_type": "display_data",
          "data": {
            "text/plain": [
              "<Figure size 432x288 with 1 Axes>"
            ],
            "image/png": "[encoded data removed]"
          },
          "metadata": {
            "needs_background": "light"
          }
        }
      ]
    },
    {
      "cell_type": "code",
      "source": [
        "X_train = X_train.reshape(X_train.shape[0],X_train.shape[1]*X_train.shape[2])\n",
        "X_test = X_test.reshape(X_test.shape[0],X_test.shape[1]*X_test.shape[2])\n",
        "X_train = X_train/255\n",
        "X_test = X_test/255"
      ],
      "metadata": {
        "id": "dXxJ6qSBlV6S"
      },
      "execution_count": null,
      "outputs": []
    },
    {
      "cell_type": "markdown",
      "source": [
        "Creating the model"
      ],
      "metadata": {
        "id": "-r3GigDoZuTP"
      }
    },
    {
      "cell_type": "code",
      "source": [
        "ANNmodel = keras.models.Sequential([\n",
        "    keras.layers.Dense(units = 784, activation = 'ReLU', input_shape = (784,)),\n",
        "    keras.layers.Dense(units = 392, activation = 'ReLU'),\n",
        "    keras.layers.Dropout(0.5),\n",
        "    keras.layers.Dense(units = 784, activation = 'ReLU'),\n",
        "    keras.layers.Dropout(0.5),\n",
        "    keras.layers.Dense(units = 10, activation = 'softmax')\n",
        "], name = \"DigitNet\")\n",
        "ANNmodel.compile(\n",
        "    optimizer='adam',\n",
        "    loss = keras.losses.SparseCategoricalCrossentropy(),\n",
        "    metrics = ['accuracy']    \n",
        ")\n",
        "ANNmodel.summary()"
      ],
      "metadata": {
        "colab": {
          "base_uri": "https://localhost:8080/"
        },
        "id": "zCIFpB80gRqH",
        "outputId": "0a8222e0-b81d-4897-9231-de3a0c43601f"
      },
      "execution_count": null,
      "outputs": [
        {
          "output_type": "stream",
          "name": "stdout",
          "text": [
            "Model: \"DigitNet\"\n",
            "_________________________________________________________________\n",
            " Layer (type)                Output Shape              Param #   \n",
            "=================================================================\n",
            " dense (Dense)               (None, 784)               615440    \n",
            "                                                                 \n",
            " dense_1 (Dense)             (None, 392)               307720    \n",
            "                                                                 \n",
            " dropout (Dropout)           (None, 392)               0         \n",
            "                                                                 \n",
            " dense_2 (Dense)             (None, 784)               308112    \n",
            "                                                                 \n",
            " dropout_1 (Dropout)         (None, 784)               0         \n",
            "                                                                 \n",
            " dense_3 (Dense)             (None, 10)                7850      \n",
            "                                                                 \n",
            "=================================================================\n",
            "Total params: 1,239,122\n",
            "Trainable params: 1,239,122\n",
            "Non-trainable params: 0\n",
            "_________________________________________________________________\n"
          ]
        }
      ]
    },
    {
      "cell_type": "markdown",
      "source": [
        "Checking"
      ],
      "metadata": {
        "id": "gsvBhnDvZ7aI"
      }
    },
    {
      "cell_type": "code",
      "source": [
        "from tensorflow.keras.callbacks import ModelCheckpoint\n",
        "checkpoint = ModelCheckpoint('bestmodel.h5', monitor=\"val_loss\", mode=\"min\", save_best_only=True, verbose = 1)\n",
        "callbacks = [checkpoint]"
      ],
      "metadata": {
        "id": "F5JTEZJECxnL"
      },
      "execution_count": null,
      "outputs": []
    },
    {
      "cell_type": "markdown",
      "source": [],
      "metadata": {
        "id": "N8TQZRp9Z-hf"
      }
    },
    {
      "cell_type": "code",
      "source": [
        "history = ANNmodel.fit(X_train, y_train, batch_size = 100,epochs = 10, validation_data = (X_test, y_test), verbose = 0, callbacks = callbacks)"
      ],
      "metadata": {
        "id": "Snih-u81i2uv",
        "colab": {
          "base_uri": "https://localhost:8080/"
        },
        "outputId": "b178babc-d280-4de0-ba71-caa47b7f711a"
      },
      "execution_count": null,
      "outputs": [
        {
          "output_type": "stream",
          "name": "stdout",
          "text": [
            "\n",
            "Epoch 1: val_loss improved from inf to 0.11010, saving model to bestmodel.h5\n",
            "\n",
            "Epoch 2: val_loss improved from 0.11010 to 0.08186, saving model to bestmodel.h5\n",
            "\n",
            "Epoch 3: val_loss improved from 0.08186 to 0.07948, saving model to bestmodel.h5\n",
            "\n",
            "Epoch 4: val_loss did not improve from 0.07948\n",
            "\n",
            "Epoch 5: val_loss did not improve from 0.07948\n",
            "\n",
            "Epoch 6: val_loss did not improve from 0.07948\n",
            "\n",
            "Epoch 7: val_loss improved from 0.07948 to 0.07262, saving model to bestmodel.h5\n",
            "\n",
            "Epoch 8: val_loss did not improve from 0.07262\n",
            "\n",
            "Epoch 9: val_loss did not improve from 0.07262\n",
            "\n",
            "Epoch 10: val_loss did not improve from 0.07262\n"
          ]
        }
      ]
    },
    {
      "cell_type": "code",
      "source": [
        "ANNmodel = keras.models.load_model('bestmodel.h5')"
      ],
      "metadata": {
        "id": "Fa4v0lpdE9NT"
      },
      "execution_count": null,
      "outputs": []
    },
    {
      "cell_type": "code",
      "source": [
        "plt.figure(1,(20,5))\n",
        "plt.subplot(1, 2, 1)\n",
        "plt.title('Model Accuracy')\n",
        "plt.ylabel('Accuracy')\n",
        "plt.xlabel('Epoch')\n",
        "sns.lineplot(\n",
        "    x = range(len(history.history['accuracy'])), \n",
        "    y = history.history['accuracy']\n",
        ")\n",
        "sns.lineplot(\n",
        "    x = range(len(history.history['val_accuracy'])), \n",
        "    y = history.history['val_accuracy']\n",
        ")\n",
        "plt.legend(['Train', 'Val'], loc = 'upper left')\n",
        "\n",
        "plt.subplot(1, 2, 2)\n",
        "sns.lineplot(\n",
        "    x = range(len(history.history['loss'])), \n",
        "    y = history.history['loss']\n",
        ")\n",
        "sns.lineplot(\n",
        "    x = range(len(history.history['val_loss'])), \n",
        "    y = history.history['val_loss']\n",
        ")\n",
        "plt.title('Model Loss')\n",
        "plt.ylabel('Loss')\n",
        "plt.xlabel('Epoch')\n",
        "plt.legend(['Train', 'Val'], loc='upper left')\n",
        "plt.show()"
      ],
      "metadata": {
        "id": "IldmtaCLnwSy",
        "colab": {
          "base_uri": "https://localhost:8080/",
          "height": 346
        },
        "outputId": "b9dd5922-e924-4cc4-e34d-1c2263a2794b"
      },
      "execution_count": null,
      "outputs": [
        {
          "output_type": "display_data",
          "data": {
            "text/plain": [
              "<Figure size 1440x360 with 2 Axes>"
            ],
            "image/png": "[encoded data removed]"
          },
          "metadata": {
            "needs_background": "light"
          }
        }
      ]
    },
    {
      "cell_type": "markdown",
      "source": [
        "### User given data testing"
      ],
      "metadata": {
        "id": "jKe2YYfWav1x"
      }
    },
    {
      "cell_type": "code",
      "source": [
        "!wget https://github.com/PriyankaDhar2/Datasets/raw/main/TestMNISTSelf.zip --quiet\n",
        "!unzip TestMNISTSelf.zip"
      ],
      "metadata": {
        "colab": {
          "base_uri": "https://localhost:8080/"
        },
        "id": "T7m5uDtO2869",
        "outputId": "fd01b987-0848-464e-c0ef-5f96064a4d9b"
      },
      "execution_count": 1,
      "outputs": [
        {
          "output_type": "stream",
          "name": "stdout",
          "text": [
            "Archive:  TestMNISTSelf.zip\n",
            " extracting: 0.jpg                   \n",
            " extracting: 1.jpg                   \n",
            " extracting: 2.jpg                   \n",
            " extracting: 3.jpg                   \n",
            " extracting: 4.jpg                   \n",
            " extracting: 5.jpg                   \n",
            " extracting: 6.jpg                   \n",
            " extracting: 7.jpg                   \n",
            " extracting: 8.jpg                   \n",
            " extracting: 9.jpg                   \n"
          ]
        }
      ]
    },
    {
      "cell_type": "markdown",
      "source": [
        "formatting the images"
      ],
      "metadata": {
        "id": "vC5VKP22a9id"
      }
    },
    {
      "cell_type": "code",
      "source": [
        "from PIL import Image, ImageOps\n",
        "test_images = []\n",
        "for i in range(10):\n",
        "  img = np.asarray(ImageOps.invert(ImageOps.grayscale(Image.open(f'{i}.jpg'))))\n",
        "  test_images.append(img)\n",
        "\n",
        "test_images = np.array(test_images)"
      ],
      "metadata": {
        "id": "KcquQbl94P9r"
      },
      "execution_count": null,
      "outputs": []
    },
    {
      "cell_type": "code",
      "source": [
        "test_images[0].reshape(1,-1).shape"
      ],
      "metadata": {
        "colab": {
          "base_uri": "https://localhost:8080/"
        },
        "id": "K3er92wi9PtF",
        "outputId": "2d029222-81ca-46bd-cfb6-fa5a76aeccfb"
      },
      "execution_count": null,
      "outputs": [
        {
          "output_type": "execute_result",
          "data": {
            "text/plain": [
              "(1, 784)"
            ]
          },
          "metadata": {},
          "execution_count": 15
        }
      ]
    },
    {
      "cell_type": "code",
      "source": [
        "test_images = test_images.reshape(test_images.shape[0],test_images.shape[1]*test_images.shape[2])\n",
        "test_images = test_images/255"
      ],
      "metadata": {
        "id": "5wUj2y2B7lXs"
      },
      "execution_count": null,
      "outputs": []
    },
    {
      "cell_type": "code",
      "source": [
        "fig, axes = plt.subplots(nrows=2, ncols=5,figsize=(15,5))          \n",
        "ax = axes.ravel()\n",
        "for i in range(10):\n",
        "    ax[i].imshow(test_images[i].reshape(28,28))\n",
        "    ax[i].title.set_text('Predicted Class: ' + str(np.argmax(ANNmodel.predict(test_images[i].reshape(1,-1),verbose = 0).ravel())))\n",
        "plt.subplots_adjust(hspace=0.5)\n",
        "plt.show()"
      ],
      "metadata": {
        "colab": {
          "base_uri": "https://localhost:8080/",
          "height": 336
        },
        "id": "_QiLPDTj7P-V",
        "outputId": "cf9f4857-dab3-4bdf-f2dc-37d716cf2eb8"
      },
      "execution_count": null,
      "outputs": [
        {
          "output_type": "display_data",
          "data": {
            "text/plain": [
              "<Figure size 1080x360 with 10 Axes>"
            ],
            "image/png": "[encoded data removed]"
          },
          "metadata": {
            "needs_background": "light"
          }
        }
      ]
    }
  ]
}