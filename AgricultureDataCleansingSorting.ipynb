{
  "nbformat": 4,
  "nbformat_minor": 0,
  "metadata": {
    "colab": {
      "provenance": [],
      "authorship_tag": "ABX9TyNQRavtuDnh33wC1SDnfAPu",
      "include_colab_link": true
    },
    "kernelspec": {
      "name": "python3",
      "display_name": "Python 3"
    },
    "language_info": {
      "name": "python"
    }
  },
  "cells": [
    {
      "cell_type": "markdown",
      "metadata": {
        "id": "view-in-github",
        "colab_type": "text"
      },
      "source": [
        "<a href=\"https://colab.research.google.com/github/PriyankaDhar2/Minor-Projects/blob/main/AgricultureDataCleansingSorting.ipynb\" target=\"_parent\"><img src=\"https://colab.research.google.com/assets/colab-badge.svg\" alt=\"Open In Colab\"/></a>"
      ]
    },
    {
      "cell_type": "code",
      "execution_count": null,
      "metadata": {
        "id": "n9xR2fjKmwde"
      },
      "outputs": [],
      "source": [
        "import numpy as np\n",
        "import pandas as pd\n",
        "import matplotlib.pyplot as plt\n",
        "import seaborn as sn"
      ]
    },
    {
      "cell_type": "markdown",
      "source": [
        "# Agriculture set 1"
      ],
      "metadata": {
        "id": "Mmw_rMJy1xnF"
      }
    },
    {
      "cell_type": "code",
      "source": [
        "dfn = pd.read_csv(\"https://raw.githubusercontent.com/PriyankaDhar2/PriyankaDhar2/main/apy_1.csv\")"
      ],
      "metadata": {
        "id": "oMX4rZp5pZz1"
      },
      "execution_count": null,
      "outputs": []
    },
    {
      "cell_type": "code",
      "source": [
        "dfn.isna().sum(axis = 0)"
      ],
      "metadata": {
        "colab": {
          "base_uri": "https://localhost:8080/"
        },
        "id": "qV58DRH6-GQg",
        "outputId": "43b0a363-3fba-469e-a643-6ba03fad068e"
      },
      "execution_count": null,
      "outputs": [
        {
          "output_type": "execute_result",
          "data": {
            "text/plain": [
              "Unnamed: 0          0\n",
              "State_Name          0\n",
              "District_Name       0\n",
              "Crop_Year           0\n",
              "Season              0\n",
              "Crop                0\n",
              "Area                0\n",
              "Production       1096\n",
              "dtype: int64"
            ]
          },
          "metadata": {},
          "execution_count": 15
        }
      ]
    },
    {
      "cell_type": "code",
      "source": [
        "df=dfn.dropna(axis=0)\n",
        "df.head()"
      ],
      "metadata": {
        "colab": {
          "base_uri": "https://localhost:8080/",
          "height": 206
        },
        "id": "alwuZgWBHVve",
        "outputId": "0e57e1f4-1e78-4298-97e0-c72ac07a18de"
      },
      "execution_count": null,
      "outputs": [
        {
          "output_type": "execute_result",
          "data": {
            "text/plain": [
              "   Unnamed: 0     State_Name  District_Name  Crop_Year       Season  \\\n",
              "0           0          Bihar        NALANDA       1997  Rabi          \n",
              "1           1          Assam  KARBI ANGLONG       2011  Whole Year    \n",
              "2           2        Gujarat          ANAND       2012  Summer        \n",
              "3           3      Karnataka   UTTAR KANNAD       2005  Rabi          \n",
              "4           4  Uttar Pradesh        JAUNPUR       2008  Rabi          \n",
              "\n",
              "        Crop     Area  Production  \n",
              "0      Wheat  81934.0    160425.0  \n",
              "1      Onion    257.0       514.0  \n",
              "2      Maize    100.0       100.0  \n",
              "3  Groundnut   2872.0      4572.0  \n",
              "4      Onion    110.0      1290.0  "
            ],
            "text/html": [
              "\n",
              "  <div id=\"df-e00972cf-3fd7-44ad-b2e8-a20c70aa256c\">\n",
              "    <div class=\"colab-df-container\">\n",
              "      <div>\n",
              "<style scoped>\n",
              "    .dataframe tbody tr th:only-of-type {\n",
              "        vertical-align: middle;\n",
              "    }\n",
              "\n",
              "    .dataframe tbody tr th {\n",
              "        vertical-align: top;\n",
              "    }\n",
              "\n",
              "    .dataframe thead th {\n",
              "        text-align: right;\n",
              "    }\n",
              "</style>\n",
              "<table border=\"1\" class=\"dataframe\">\n",
              "  <thead>\n",
              "    <tr style=\"text-align: right;\">\n",
              "      <th></th>\n",
              "      <th>Unnamed: 0</th>\n",
              "      <th>State_Name</th>\n",
              "      <th>District_Name</th>\n",
              "      <th>Crop_Year</th>\n",
              "      <th>Season</th>\n",
              "      <th>Crop</th>\n",
              "      <th>Area</th>\n",
              "      <th>Production</th>\n",
              "    </tr>\n",
              "  </thead>\n",
              "  <tbody>\n",
              "    <tr>\n",
              "      <th>0</th>\n",
              "      <td>0</td>\n",
              "      <td>Bihar</td>\n",
              "      <td>NALANDA</td>\n",
              "      <td>1997</td>\n",
              "      <td>Rabi</td>\n",
              "      <td>Wheat</td>\n",
              "      <td>81934.0</td>\n",
              "      <td>160425.0</td>\n",
              "    </tr>\n",
              "    <tr>\n",
              "      <th>1</th>\n",
              "      <td>1</td>\n",
              "      <td>Assam</td>\n",
              "      <td>KARBI ANGLONG</td>\n",
              "      <td>2011</td>\n",
              "      <td>Whole Year</td>\n",
              "      <td>Onion</td>\n",
              "      <td>257.0</td>\n",
              "      <td>514.0</td>\n",
              "    </tr>\n",
              "    <tr>\n",
              "      <th>2</th>\n",
              "      <td>2</td>\n",
              "      <td>Gujarat</td>\n",
              "      <td>ANAND</td>\n",
              "      <td>2012</td>\n",
              "      <td>Summer</td>\n",
              "      <td>Maize</td>\n",
              "      <td>100.0</td>\n",
              "      <td>100.0</td>\n",
              "    </tr>\n",
              "    <tr>\n",
              "      <th>3</th>\n",
              "      <td>3</td>\n",
              "      <td>Karnataka</td>\n",
              "      <td>UTTAR KANNAD</td>\n",
              "      <td>2005</td>\n",
              "      <td>Rabi</td>\n",
              "      <td>Groundnut</td>\n",
              "      <td>2872.0</td>\n",
              "      <td>4572.0</td>\n",
              "    </tr>\n",
              "    <tr>\n",
              "      <th>4</th>\n",
              "      <td>4</td>\n",
              "      <td>Uttar Pradesh</td>\n",
              "      <td>JAUNPUR</td>\n",
              "      <td>2008</td>\n",
              "      <td>Rabi</td>\n",
              "      <td>Onion</td>\n",
              "      <td>110.0</td>\n",
              "      <td>1290.0</td>\n",
              "    </tr>\n",
              "  </tbody>\n",
              "</table>\n",
              "</div>\n",
              "      <button class=\"colab-df-convert\" onclick=\"convertToInteractive('df-e00972cf-3fd7-44ad-b2e8-a20c70aa256c')\"\n",
              "              title=\"Convert this dataframe to an interactive table.\"\n",
              "              style=\"display:none;\">\n",
              "        \n",
              "  <svg xmlns=\"http://www.w3.org/2000/svg\" height=\"24px\"viewBox=\"0 0 24 24\"\n",
              "       width=\"24px\">\n",
              "    <path d=\"M0 0h24v24H0V0z\" fill=\"none\"/>\n",
              "    <path d=\"M18.56 5.44l.94 2.06.94-2.06 2.06-.94-2.06-.94-.94-2.06-.94 2.06-2.06.94zm-11 1L8.5 8.5l.94-2.06 2.06-.94-2.06-.94L8.5 2.5l-.94 2.06-2.06.94zm10 10l.94 2.06.94-2.06 2.06-.94-2.06-.94-.94-2.06-.94 2.06-2.06.94z\"/><path d=\"M17.41 7.96l-1.37-1.37c-.4-.4-.92-.59-1.43-.59-.52 0-1.04.2-1.43.59L10.3 9.45l-7.72 7.72c-.78.78-.78 2.05 0 2.83L4 21.41c.39.39.9.59 1.41.59.51 0 1.02-.2 1.41-.59l7.78-7.78 2.81-2.81c.8-.78.8-2.07 0-2.86zM5.41 20L4 18.59l7.72-7.72 1.47 1.35L5.41 20z\"/>\n",
              "  </svg>\n",
              "      </button>\n",
              "      \n",
              "  <style>\n",
              "    .colab-df-container {\n",
              "      display:flex;\n",
              "      flex-wrap:wrap;\n",
              "      gap: 12px;\n",
              "    }\n",
              "\n",
              "    .colab-df-convert {\n",
              "      background-color: #E8F0FE;\n",
              "      border: none;\n",
              "      border-radius: 50%;\n",
              "      cursor: pointer;\n",
              "      display: none;\n",
              "      fill: #1967D2;\n",
              "      height: 32px;\n",
              "      padding: 0 0 0 0;\n",
              "      width: 32px;\n",
              "    }\n",
              "\n",
              "    .colab-df-convert:hover {\n",
              "      background-color: #E2EBFA;\n",
              "      box-shadow: 0px 1px 2px rgba(60, 64, 67, 0.3), 0px 1px 3px 1px rgba(60, 64, 67, 0.15);\n",
              "      fill: #174EA6;\n",
              "    }\n",
              "\n",
              "    [theme=dark] .colab-df-convert {\n",
              "      background-color: #3B4455;\n",
              "      fill: #D2E3FC;\n",
              "    }\n",
              "\n",
              "    [theme=dark] .colab-df-convert:hover {\n",
              "      background-color: #434B5C;\n",
              "      box-shadow: 0px 1px 3px 1px rgba(0, 0, 0, 0.15);\n",
              "      filter: drop-shadow(0px 1px 2px rgba(0, 0, 0, 0.3));\n",
              "      fill: #FFFFFF;\n",
              "    }\n",
              "  </style>\n",
              "\n",
              "      <script>\n",
              "        const buttonEl =\n",
              "          document.querySelector('#df-e00972cf-3fd7-44ad-b2e8-a20c70aa256c button.colab-df-convert');\n",
              "        buttonEl.style.display =\n",
              "          google.colab.kernel.accessAllowed ? 'block' : 'none';\n",
              "\n",
              "        async function convertToInteractive(key) {\n",
              "          const element = document.querySelector('#df-e00972cf-3fd7-44ad-b2e8-a20c70aa256c');\n",
              "          const dataTable =\n",
              "            await google.colab.kernel.invokeFunction('convertToInteractive',\n",
              "                                                     [key], {});\n",
              "          if (!dataTable) return;\n",
              "\n",
              "          const docLinkHtml = 'Like what you see? Visit the ' +\n",
              "            '<a target=\"_blank\" href=https://colab.research.google.com/notebooks/data_table.ipynb>data table notebook</a>'\n",
              "            + ' to learn more about interactive tables.';\n",
              "          element.innerHTML = '';\n",
              "          dataTable['output_type'] = 'display_data';\n",
              "          await google.colab.output.renderOutput(dataTable, element);\n",
              "          const docLink = document.createElement('div');\n",
              "          docLink.innerHTML = docLinkHtml;\n",
              "          element.appendChild(docLink);\n",
              "        }\n",
              "      </script>\n",
              "    </div>\n",
              "  </div>\n",
              "  "
            ]
          },
          "metadata": {},
          "execution_count": 16
        }
      ]
    },
    {
      "cell_type": "code",
      "source": [
        "df.isnull().sum(axis = 0)"
      ],
      "metadata": {
        "colab": {
          "base_uri": "https://localhost:8080/"
        },
        "id": "zOmXKAKQ-K0u",
        "outputId": "3542c923-cd89-4367-da78-f7c579ed5b8b"
      },
      "execution_count": null,
      "outputs": [
        {
          "output_type": "execute_result",
          "data": {
            "text/plain": [
              "Unnamed: 0       0\n",
              "State_Name       0\n",
              "District_Name    0\n",
              "Crop_Year        0\n",
              "Season           0\n",
              "Crop             0\n",
              "Area             0\n",
              "Production       0\n",
              "dtype: int64"
            ]
          },
          "metadata": {},
          "execution_count": 17
        }
      ]
    },
    {
      "cell_type": "code",
      "source": [
        "df.columns"
      ],
      "metadata": {
        "colab": {
          "base_uri": "https://localhost:8080/"
        },
        "id": "dn9aD9QPGQ5q",
        "outputId": "61276ca1-8146-4c27-b053-2f6a5f349a63"
      },
      "execution_count": null,
      "outputs": [
        {
          "output_type": "execute_result",
          "data": {
            "text/plain": [
              "Index(['Unnamed: 0', 'State_Name', 'District_Name', 'Crop_Year', 'Season',\n",
              "       'Crop', 'Area', 'Production'],\n",
              "      dtype='object')"
            ]
          },
          "metadata": {},
          "execution_count": 6
        }
      ]
    },
    {
      "cell_type": "code",
      "source": [
        "df.groupby([\"Season\"])[\"Production\"].sum()"
      ],
      "metadata": {
        "colab": {
          "base_uri": "https://localhost:8080/"
        },
        "id": "cy7-uvbav2-h",
        "outputId": "bda05ce0-f729-4d17-96c0-76cf078218f3"
      },
      "execution_count": null,
      "outputs": [
        {
          "output_type": "execute_result",
          "data": {
            "text/plain": [
              "Season\n",
              "Autumn         1.969044e+07\n",
              "Kharif         1.195933e+09\n",
              "Rabi           6.151127e+08\n",
              "Summer         4.920665e+07\n",
              "Whole Year     4.315616e+10\n",
              "Winter         1.321746e+08\n",
              "Name: Production, dtype: float64"
            ]
          },
          "metadata": {},
          "execution_count": 7
        }
      ]
    },
    {
      "cell_type": "code",
      "source": [
        "from seaborn.utils import sort_df\n",
        "df.groupby([\"District_Name\"],sort=True)[\"Production\"].sum().sort_values(ascending=False)\n"
      ],
      "metadata": {
        "colab": {
          "base_uri": "https://localhost:8080/"
        },
        "id": "e5jR0Egm9YHE",
        "outputId": "2ecdef48-7feb-4c06-d1ae-561e9d8e9f3b"
      },
      "execution_count": null,
      "outputs": [
        {
          "output_type": "execute_result",
          "data": {
            "text/plain": [
              "District_Name\n",
              "KOZHIKODE             6.012791e+09\n",
              "MALAPPURAM            4.375478e+09\n",
              "THRISSUR              3.681628e+09\n",
              "KASARAGOD             3.479150e+09\n",
              "THIRUVANANTHAPURAM    2.963416e+09\n",
              "                          ...     \n",
              "RAMBAN                1.578000e+03\n",
              "RAMGARH               8.930000e+02\n",
              "NAMSAI                7.940000e+02\n",
              "HYDERABAD             3.060000e+02\n",
              "MUMBAI                2.000000e+00\n",
              "Name: Production, Length: 646, dtype: float64"
            ]
          },
          "metadata": {},
          "execution_count": 8
        }
      ]
    },
    {
      "cell_type": "code",
      "source": [],
      "metadata": {
        "id": "TTXQq8jB-p44"
      },
      "execution_count": null,
      "outputs": []
    },
    {
      "cell_type": "code",
      "source": [
        "plt.figure(1,(28,5))\n",
        "sn.lineplot(x = 'State_Name',y = 'Production',data = df)\n",
        "plt.show()"
      ],
      "metadata": {
        "colab": {
          "base_uri": "https://localhost:8080/",
          "height": 253
        },
        "id": "Snrv0q13u_Zw",
        "outputId": "a379ffa4-9bd5-4bce-f6e3-6d2d71ee43b1"
      },
      "execution_count": null,
      "outputs": [
        {
          "output_type": "display_data",
          "data": {
            "text/plain": [
              "<Figure size 2016x360 with 1 Axes>"
            ],
            "image/png": "[encoded data removed]"
          },
          "metadata": {
            "needs_background": "light"
          }
        }
      ]
    },
    {
      "cell_type": "code",
      "source": [
        "df.groupby([\"State_Name\"])[\"Production\"].sum().sort_values(ascending=False)"
      ],
      "metadata": {
        "colab": {
          "base_uri": "https://localhost:8080/"
        },
        "id": "fMWN8ViF_DDo",
        "outputId": "12eb613c-57be-4218-d8f5-1bcec90e95f0"
      },
      "execution_count": null,
      "outputs": [
        {
          "output_type": "execute_result",
          "data": {
            "text/plain": [
              "State_Name\n",
              "Kerala                         3.314056e+10\n",
              "Tamil Nadu                     4.045188e+09\n",
              "Andhra Pradesh                 3.595973e+09\n",
              "Uttar Pradesh                  9.890559e+08\n",
              "Assam                          6.019920e+08\n",
              "West Bengal                    5.703789e+08\n",
              "Maharashtra                    3.621771e+08\n",
              "Andaman and Nicobar Islands    2.936291e+08\n",
              "Karnataka                      2.640385e+08\n",
              "Goa                            2.367726e+08\n",
              "Punjab                         1.710590e+08\n",
              "Gujarat                        1.500758e+08\n",
              "Madhya Pradesh                 1.300390e+08\n",
              "Bihar                          1.125670e+08\n",
              "Telangana                      9.946250e+07\n",
              "Haryana                        9.644999e+07\n",
              "Rajasthan                      8.756090e+07\n",
              "Puducherry                     7.539482e+07\n",
              "Odisha                         4.635979e+07\n",
              "Uttarakhand                    3.685920e+07\n",
              "Chhattisgarh                   3.260849e+07\n",
              "Himachal Pradesh               5.828741e+06\n",
              "Meghalaya                      4.059699e+06\n",
              "Tripura                        3.975350e+06\n",
              "Jammu and Kashmir              3.870168e+06\n",
              "Jharkhand                      3.416858e+06\n",
              "Nagaland                       3.340025e+06\n",
              "Arunachal Pradesh              2.181652e+06\n",
              "Manipur                        1.560800e+06\n",
              "Dadra and Nagar Haveli         6.919730e+05\n",
              "Sikkim                         6.453750e+05\n",
              "Mizoram                        4.704351e+05\n",
              "Chandigarh                     2.923000e+04\n",
              "Name: Production, dtype: float64"
            ]
          },
          "metadata": {},
          "execution_count": 10
        }
      ]
    },
    {
      "cell_type": "code",
      "source": [
        "filter = df[\"State_Name\"]==\"West Bengal\"\n",
        "\n",
        "df.where(filter, inplace = True)\n",
        "\n",
        "df.groupby([\"Crop_Year\"])[\"Production\"].sum().sort_values(ascending=False)"
      ],
      "metadata": {
        "id": "0ouExBC5_sPP",
        "colab": {
          "base_uri": "https://localhost:8080/"
        },
        "outputId": "7bf233da-8381-43f8-ab9a-c44edead15ea"
      },
      "execution_count": null,
      "outputs": [
        {
          "output_type": "execute_result",
          "data": {
            "text/plain": [
              "Crop_Year\n",
              "2007.0    201537048.0\n",
              "2006.0    173250298.0\n",
              "1997.0     22472430.0\n",
              "2014.0     18302156.0\n",
              "2009.0     14476077.0\n",
              "2003.0     14170705.6\n",
              "2012.0     13498244.0\n",
              "2013.0     13494606.0\n",
              "2002.0     12559002.1\n",
              "2010.0     12338035.0\n",
              "2011.0     10949803.0\n",
              "2008.0     10030521.0\n",
              "1998.0      9988608.3\n",
              "2005.0      9494050.0\n",
              "1999.0      9195580.0\n",
              "2004.0      8608367.5\n",
              "2000.0      8323849.0\n",
              "2001.0      7689550.7\n",
              "Name: Production, dtype: float64"
            ]
          },
          "metadata": {},
          "execution_count": 11
        }
      ]
    },
    {
      "cell_type": "code",
      "source": [
        "df = df[['Area','Production']]\n",
        "print(df.corr())"
      ],
      "metadata": {
        "colab": {
          "base_uri": "https://localhost:8080/"
        },
        "id": "qDn5-nWFAcpH",
        "outputId": "15dff007-6ce2-474a-dad4-d412de468394"
      },
      "execution_count": null,
      "outputs": [
        {
          "output_type": "stream",
          "name": "stdout",
          "text": [
            "                Area  Production\n",
            "Area        1.000000    0.071593\n",
            "Production  0.071593    1.000000\n"
          ]
        }
      ]
    },
    {
      "cell_type": "code",
      "source": [
        "df = df[['Production','Crop_Year']]\n",
        "print(df.corr())"
      ],
      "metadata": {
        "colab": {
          "base_uri": "https://localhost:8080/",
          "height": 329
        },
        "id": "cAp3t-_MBacs",
        "outputId": "bffe248b-050c-41e4-9c66-a888c9b7d0f8"
      },
      "execution_count": null,
      "outputs": [
        {
          "output_type": "error",
          "ename": "KeyError",
          "evalue": "ignored",
          "traceback": [
            "\u001b[0;31m---------------------------------------------------------------------------\u001b[0m",
            "\u001b[0;31mKeyError\u001b[0m                                  Traceback (most recent call last)",
            "\u001b[0;32m<ipython-input-13-7ff30a95d9df>\u001b[0m in \u001b[0;36m<module>\u001b[0;34m\u001b[0m\n\u001b[0;32m----> 1\u001b[0;31m \u001b[0mdf\u001b[0m \u001b[0;34m=\u001b[0m \u001b[0mdf\u001b[0m\u001b[0;34m[\u001b[0m\u001b[0;34m[\u001b[0m\u001b[0;34m'Production'\u001b[0m\u001b[0;34m,\u001b[0m\u001b[0;34m'Crop_Year'\u001b[0m\u001b[0;34m]\u001b[0m\u001b[0;34m]\u001b[0m\u001b[0;34m\u001b[0m\u001b[0;34m\u001b[0m\u001b[0m\n\u001b[0m\u001b[1;32m      2\u001b[0m \u001b[0mprint\u001b[0m\u001b[0;34m(\u001b[0m\u001b[0mdf\u001b[0m\u001b[0;34m.\u001b[0m\u001b[0mcorr\u001b[0m\u001b[0;34m(\u001b[0m\u001b[0;34m)\u001b[0m\u001b[0;34m)\u001b[0m\u001b[0;34m\u001b[0m\u001b[0;34m\u001b[0m\u001b[0m\n",
            "\u001b[0;32m/usr/local/lib/python3.7/dist-packages/pandas/core/frame.py\u001b[0m in \u001b[0;36m__getitem__\u001b[0;34m(self, key)\u001b[0m\n\u001b[1;32m   3462\u001b[0m             \u001b[0;32mif\u001b[0m \u001b[0mis_iterator\u001b[0m\u001b[0;34m(\u001b[0m\u001b[0mkey\u001b[0m\u001b[0;34m)\u001b[0m\u001b[0;34m:\u001b[0m\u001b[0;34m\u001b[0m\u001b[0;34m\u001b[0m\u001b[0m\n\u001b[1;32m   3463\u001b[0m                 \u001b[0mkey\u001b[0m \u001b[0;34m=\u001b[0m \u001b[0mlist\u001b[0m\u001b[0;34m(\u001b[0m\u001b[0mkey\u001b[0m\u001b[0;34m)\u001b[0m\u001b[0;34m\u001b[0m\u001b[0;34m\u001b[0m\u001b[0m\n\u001b[0;32m-> 3464\u001b[0;31m             \u001b[0mindexer\u001b[0m \u001b[0;34m=\u001b[0m \u001b[0mself\u001b[0m\u001b[0;34m.\u001b[0m\u001b[0mloc\u001b[0m\u001b[0;34m.\u001b[0m\u001b[0m_get_listlike_indexer\u001b[0m\u001b[0;34m(\u001b[0m\u001b[0mkey\u001b[0m\u001b[0;34m,\u001b[0m \u001b[0maxis\u001b[0m\u001b[0;34m=\u001b[0m\u001b[0;36m1\u001b[0m\u001b[0;34m)\u001b[0m\u001b[0;34m[\u001b[0m\u001b[0;36m1\u001b[0m\u001b[0;34m]\u001b[0m\u001b[0;34m\u001b[0m\u001b[0;34m\u001b[0m\u001b[0m\n\u001b[0m\u001b[1;32m   3465\u001b[0m \u001b[0;34m\u001b[0m\u001b[0m\n\u001b[1;32m   3466\u001b[0m         \u001b[0;31m# take() does not accept boolean indexers\u001b[0m\u001b[0;34m\u001b[0m\u001b[0;34m\u001b[0m\u001b[0;34m\u001b[0m\u001b[0m\n",
            "\u001b[0;32m/usr/local/lib/python3.7/dist-packages/pandas/core/indexing.py\u001b[0m in \u001b[0;36m_get_listlike_indexer\u001b[0;34m(self, key, axis)\u001b[0m\n\u001b[1;32m   1312\u001b[0m             \u001b[0mkeyarr\u001b[0m\u001b[0;34m,\u001b[0m \u001b[0mindexer\u001b[0m\u001b[0;34m,\u001b[0m \u001b[0mnew_indexer\u001b[0m \u001b[0;34m=\u001b[0m \u001b[0max\u001b[0m\u001b[0;34m.\u001b[0m\u001b[0m_reindex_non_unique\u001b[0m\u001b[0;34m(\u001b[0m\u001b[0mkeyarr\u001b[0m\u001b[0;34m)\u001b[0m\u001b[0;34m\u001b[0m\u001b[0;34m\u001b[0m\u001b[0m\n\u001b[1;32m   1313\u001b[0m \u001b[0;34m\u001b[0m\u001b[0m\n\u001b[0;32m-> 1314\u001b[0;31m         \u001b[0mself\u001b[0m\u001b[0;34m.\u001b[0m\u001b[0m_validate_read_indexer\u001b[0m\u001b[0;34m(\u001b[0m\u001b[0mkeyarr\u001b[0m\u001b[0;34m,\u001b[0m \u001b[0mindexer\u001b[0m\u001b[0;34m,\u001b[0m \u001b[0maxis\u001b[0m\u001b[0;34m)\u001b[0m\u001b[0;34m\u001b[0m\u001b[0;34m\u001b[0m\u001b[0m\n\u001b[0m\u001b[1;32m   1315\u001b[0m \u001b[0;34m\u001b[0m\u001b[0m\n\u001b[1;32m   1316\u001b[0m         if needs_i8_conversion(ax.dtype) or isinstance(\n",
            "\u001b[0;32m/usr/local/lib/python3.7/dist-packages/pandas/core/indexing.py\u001b[0m in \u001b[0;36m_validate_read_indexer\u001b[0;34m(self, key, indexer, axis)\u001b[0m\n\u001b[1;32m   1375\u001b[0m \u001b[0;34m\u001b[0m\u001b[0m\n\u001b[1;32m   1376\u001b[0m             \u001b[0mnot_found\u001b[0m \u001b[0;34m=\u001b[0m \u001b[0mlist\u001b[0m\u001b[0;34m(\u001b[0m\u001b[0mensure_index\u001b[0m\u001b[0;34m(\u001b[0m\u001b[0mkey\u001b[0m\u001b[0;34m)\u001b[0m\u001b[0;34m[\u001b[0m\u001b[0mmissing_mask\u001b[0m\u001b[0;34m.\u001b[0m\u001b[0mnonzero\u001b[0m\u001b[0;34m(\u001b[0m\u001b[0;34m)\u001b[0m\u001b[0;34m[\u001b[0m\u001b[0;36m0\u001b[0m\u001b[0;34m]\u001b[0m\u001b[0;34m]\u001b[0m\u001b[0;34m.\u001b[0m\u001b[0munique\u001b[0m\u001b[0;34m(\u001b[0m\u001b[0;34m)\u001b[0m\u001b[0;34m)\u001b[0m\u001b[0;34m\u001b[0m\u001b[0;34m\u001b[0m\u001b[0m\n\u001b[0;32m-> 1377\u001b[0;31m             \u001b[0;32mraise\u001b[0m \u001b[0mKeyError\u001b[0m\u001b[0;34m(\u001b[0m\u001b[0;34mf\"{not_found} not in index\"\u001b[0m\u001b[0;34m)\u001b[0m\u001b[0;34m\u001b[0m\u001b[0;34m\u001b[0m\u001b[0m\n\u001b[0m\u001b[1;32m   1378\u001b[0m \u001b[0;34m\u001b[0m\u001b[0m\n\u001b[1;32m   1379\u001b[0m \u001b[0;34m\u001b[0m\u001b[0m\n",
            "\u001b[0;31mKeyError\u001b[0m: \"['Crop_Year'] not in index\""
          ]
        }
      ]
    },
    {
      "cell_type": "code",
      "source": [
        "df.groupby([\"Crop_Year\"])[\"Production\"].sum().sort_values(ascending=False)"
      ],
      "metadata": {
        "id": "O5SWFGmQEQI7"
      },
      "execution_count": null,
      "outputs": []
    },
    {
      "cell_type": "code",
      "source": [
        "filter = df[\"State_Name\"]==\"Maharashtra\"\n",
        "\n",
        "df.where(filter, inplace = True)\n",
        "\n",
        "df.groupby([\"Crop\"])[\"Production\"].sum().sort_values(ascending=False)"
      ],
      "metadata": {
        "id": "Wra_fjoCEoSu"
      },
      "execution_count": null,
      "outputs": []
    },
    {
      "cell_type": "code",
      "source": [
        "filter = df[\"Season\"]==\"Whole Year\"\n",
        "\n",
        "df.where(filter, inplace = True)\n",
        "\n",
        "df.groupby([\"Crop\"])[\"Production\"].count().sort_values(ascending=False)"
      ],
      "metadata": {
        "id": "hgHGWXwiGCwf",
        "outputId": "05ba9034-8411-4ec1-e493-09ee08129f2c",
        "colab": {
          "base_uri": "https://localhost:8080/",
          "height": 235
        }
      },
      "execution_count": null,
      "outputs": [
        {
          "output_type": "error",
          "ename": "NameError",
          "evalue": "ignored",
          "traceback": [
            "\u001b[0;31m---------------------------------------------------------------------------\u001b[0m",
            "\u001b[0;31mNameError\u001b[0m                                 Traceback (most recent call last)",
            "\u001b[0;32m<ipython-input-1-6500a476f018>\u001b[0m in \u001b[0;36m<module>\u001b[0;34m\u001b[0m\n\u001b[0;32m----> 1\u001b[0;31m \u001b[0mfilter\u001b[0m \u001b[0;34m=\u001b[0m \u001b[0mdf\u001b[0m\u001b[0;34m[\u001b[0m\u001b[0;34m\"Season\"\u001b[0m\u001b[0;34m]\u001b[0m\u001b[0;34m==\u001b[0m\u001b[0;34m\"Whole Year\"\u001b[0m\u001b[0;34m\u001b[0m\u001b[0;34m\u001b[0m\u001b[0m\n\u001b[0m\u001b[1;32m      2\u001b[0m \u001b[0;34m\u001b[0m\u001b[0m\n\u001b[1;32m      3\u001b[0m \u001b[0mdf\u001b[0m\u001b[0;34m.\u001b[0m\u001b[0mwhere\u001b[0m\u001b[0;34m(\u001b[0m\u001b[0mfilter\u001b[0m\u001b[0;34m,\u001b[0m \u001b[0minplace\u001b[0m \u001b[0;34m=\u001b[0m \u001b[0;32mTrue\u001b[0m\u001b[0;34m)\u001b[0m\u001b[0;34m\u001b[0m\u001b[0;34m\u001b[0m\u001b[0m\n\u001b[1;32m      4\u001b[0m \u001b[0;34m\u001b[0m\u001b[0m\n\u001b[1;32m      5\u001b[0m \u001b[0mdf\u001b[0m\u001b[0;34m.\u001b[0m\u001b[0mgroupby\u001b[0m\u001b[0;34m(\u001b[0m\u001b[0;34m[\u001b[0m\u001b[0;34m\"Crop\"\u001b[0m\u001b[0;34m]\u001b[0m\u001b[0;34m)\u001b[0m\u001b[0;34m[\u001b[0m\u001b[0;34m\"Production\"\u001b[0m\u001b[0;34m]\u001b[0m\u001b[0;34m.\u001b[0m\u001b[0mcount\u001b[0m\u001b[0;34m(\u001b[0m\u001b[0;34m)\u001b[0m\u001b[0;34m.\u001b[0m\u001b[0msort_values\u001b[0m\u001b[0;34m(\u001b[0m\u001b[0mascending\u001b[0m\u001b[0;34m=\u001b[0m\u001b[0;32mFalse\u001b[0m\u001b[0;34m)\u001b[0m\u001b[0;34m\u001b[0m\u001b[0;34m\u001b[0m\u001b[0m\n",
            "\u001b[0;31mNameError\u001b[0m: name 'df' is not defined"
          ]
        }
      ]
    },
    {
      "cell_type": "code",
      "source": [
        "filter = df['Crop_Year']=='2005'\n",
        "\n",
        "df.where(filter, inplace = True)\n",
        "\n",
        "df.groupby(['Crop'])['Production'].count().sort_values(ascending=False)"
      ],
      "metadata": {
        "id": "Di-IkhFPFbcd"
      },
      "execution_count": null,
      "outputs": []
    },
    {
      "cell_type": "markdown",
      "source": [
        "# Agriculture set 2\n"
      ],
      "metadata": {
        "id": "cS29_yUb2JGF"
      }
    },
    {
      "cell_type": "code",
      "source": [
        "df = pd.read_csv(\"https://raw.githubusercontent.com/PriyankaDhar2/PriyankaDhar2/main/apy_2.csv\")\n",
        "df.dropna(inplace=True)\n",
        "df.head()"
      ],
      "metadata": {
        "id": "N0gfJ0wu2NXV"
      },
      "execution_count": null,
      "outputs": []
    },
    {
      "cell_type": "code",
      "source": [
        "df['Season'].unique()"
      ],
      "metadata": {
        "id": "r9eUXFs37LBX"
      },
      "execution_count": null,
      "outputs": []
    },
    {
      "cell_type": "code",
      "source": [
        "df.columns"
      ],
      "metadata": {
        "id": "8zOdhJ7D2-ye"
      },
      "execution_count": null,
      "outputs": []
    },
    {
      "cell_type": "code",
      "source": [
        "filter = df[\"Season\"]=='Autumn     '\n",
        "\n",
        "df.where(filter, inplace = True)\n",
        "\n",
        "df.groupby([\"Crop\"])[\"Production\"].sum().sort_values(ascending=False)"
      ],
      "metadata": {
        "id": "YQYnNXbVKrbW"
      },
      "execution_count": null,
      "outputs": []
    },
    {
      "cell_type": "code",
      "source": [
        "df.groupby([\"Crop\"])[\"Production\"].sum().sort_values(ascending=False)"
      ],
      "metadata": {
        "id": "_f1NCnJuDuaG"
      },
      "execution_count": null,
      "outputs": []
    },
    {
      "cell_type": "code",
      "source": [
        "filter = df[\"Crop_Year\"]==2012\n",
        "\n",
        "df.where(filter, inplace = True)\n",
        "\n",
        "df.groupby([\"Crop\"])[\"Production\"].sum().sort_values(ascending=False)"
      ],
      "metadata": {
        "id": "9WcljHi3_vqK"
      },
      "execution_count": null,
      "outputs": []
    },
    {
      "cell_type": "code",
      "source": [
        "#2\n",
        "filter = df[\"State_Name\"]==\"Haryana\"\n",
        "\n",
        "df.where(filter, inplace = True)\n",
        "\n",
        "df.groupby([\"Crop_Year\"])[\"Production\"].sum().sort_values(ascending=False)"
      ],
      "metadata": {
        "id": "nSJwCTgF3DUq"
      },
      "execution_count": null,
      "outputs": []
    },
    {
      "cell_type": "code",
      "source": [
        "#3\n",
        "df.groupby([\"Crop_Year\"])[\"Area\"].sum().sort_values(ascending=False)"
      ],
      "metadata": {
        "id": "BrwQGyyT30f9"
      },
      "execution_count": null,
      "outputs": []
    },
    {
      "cell_type": "code",
      "source": [
        "#5\n",
        "filter = df[\"Crop_Year\"]==2012\n",
        "\n",
        "df.where(filter, inplace = True)\n",
        "\n",
        "df.groupby([\"Crop\"])[\"Production\"].sum().sort_values(ascending=False)"
      ],
      "metadata": {
        "id": "H6xvqRsb4OsI"
      },
      "execution_count": null,
      "outputs": []
    },
    {
      "cell_type": "code",
      "source": [
        "filter = df['Season']=='Summer'\n",
        "\n",
        "df.where(filter, inplace = True)\n",
        "\n",
        "df.groupby(['Crop'])['Production'].count()"
      ],
      "metadata": {
        "id": "MRy3U7GZ2zXa"
      },
      "execution_count": null,
      "outputs": []
    },
    {
      "cell_type": "code",
      "source": [
        "filter = df[\"State_Name\"]==\"Andhra Pradesh\"\n",
        "\n",
        "df.where(filter, inplace = True)\n",
        "\n",
        "df.groupby([\"Crop\"])[\"Production\"].sum().sort_values(ascending=False)"
      ],
      "metadata": {
        "id": "CKxyb97LA_Xy"
      },
      "execution_count": null,
      "outputs": []
    },
    {
      "cell_type": "code",
      "source": [
        "df.groupby([\"State_Name\"])[\"Area\"].sum().sort_values()"
      ],
      "metadata": {
        "id": "iCdPsxdrCg5x"
      },
      "execution_count": null,
      "outputs": []
    },
    {
      "cell_type": "code",
      "source": [
        "df[[\"Area\"]].mean()"
      ],
      "metadata": {
        "id": "HJT6oyWNDPWq"
      },
      "execution_count": null,
      "outputs": []
    },
    {
      "cell_type": "code",
      "source": [
        "df = df[['Production','Area']]\n",
        "print(df.corr())"
      ],
      "metadata": {
        "id": "LW_MEOQEDeNx"
      },
      "execution_count": null,
      "outputs": []
    },
    {
      "cell_type": "code",
      "source": [
        "df.groupby([\"Season\"])[\"Production\"].sum().sort_values(ascending=False)"
      ],
      "metadata": {
        "id": "4xfUXUz_En32"
      },
      "execution_count": null,
      "outputs": []
    },
    {
      "cell_type": "code",
      "source": [
        "df_2 = df.loc[df['Season'].isin(['Autumn     ' and 'Winter     ' and 'Summer     '])]\n",
        "df_2"
      ],
      "metadata": {
        "id": "vbjq5VLKFJYE"
      },
      "execution_count": null,
      "outputs": []
    },
    {
      "cell_type": "code",
      "source": [
        "df_2.groupby([\"Crop\"])[\"Production\"].sum().sort_values(ascending=False)"
      ],
      "metadata": {
        "id": "mlyZZ7SPJV8t"
      },
      "execution_count": null,
      "outputs": []
    }
  ]
}