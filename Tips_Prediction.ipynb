{
  "nbformat": 4,
  "nbformat_minor": 0,
  "metadata": {
    "colab": {
      "provenance": [],
      "collapsed_sections": [
        "z-eVlF3T7sYn"
      ],
      "include_colab_link": true
    },
    "kernelspec": {
      "name": "python3",
      "display_name": "Python 3"
    },
    "language_info": {
      "name": "python"
    },
    "gpuClass": "standard"
  },
  "cells": [
    {
      "cell_type": "markdown",
      "metadata": {
        "id": "view-in-github",
        "colab_type": "text"
      },
      "source": [
        "<a href=\"https://colab.research.google.com/github/PriyankaDhar2/Minor-Projects/blob/main/Tips_Prediction.ipynb\" target=\"_parent\"><img src=\"https://colab.research.google.com/assets/colab-badge.svg\" alt=\"Open In Colab\"/></a>"
      ]
    },
    {
      "cell_type": "markdown",
      "source": [
        "## Priliminary Work"
      ],
      "metadata": {
        "id": "z-eVlF3T7sYn"
      }
    },
    {
      "cell_type": "markdown",
      "source": [
        "**First things first, we need to import the necessary modules**"
      ],
      "metadata": {
        "id": "CUGkcurcaMlu"
      }
    },
    {
      "cell_type": "code",
      "execution_count": null,
      "metadata": {
        "id": "zzNZdTbmZ6xW"
      },
      "outputs": [],
      "source": [
        "import pandas as pd\n",
        "import numpy as np\n",
        "import matplotlib.pyplot as plt\n",
        "import seaborn as sns\n",
        "from sklearn.model_selection import train_test_split\n",
        "from sklearn.linear_model import LinearRegression"
      ]
    },
    {
      "cell_type": "markdown",
      "source": [
        "**Now we load the tips dataset into a pandas dataframe**"
      ],
      "metadata": {
        "id": "L87BzCKzbn6w"
      }
    },
    {
      "cell_type": "code",
      "source": [
        "df = sns.load_dataset('tips')\n",
        "df.head()"
      ],
      "metadata": {
        "colab": {
          "base_uri": "https://localhost:8080/",
          "height": 206
        },
        "id": "A-cidmFYblCI",
        "outputId": "8dbce860-acf3-4dec-a721-80287e405d0d"
      },
      "execution_count": null,
      "outputs": [
        {
          "output_type": "execute_result",
          "data": {
            "text/plain": [
              "   total_bill   tip     sex smoker  day    time  size\n",
              "0       16.99  1.01  Female     No  Sun  Dinner     2\n",
              "1       10.34  1.66    Male     No  Sun  Dinner     3\n",
              "2       21.01  3.50    Male     No  Sun  Dinner     3\n",
              "3       23.68  3.31    Male     No  Sun  Dinner     2\n",
              "4       24.59  3.61  Female     No  Sun  Dinner     4"
            ],
            "text/html": [
              "\n",
              "  <div id=\"df-740455ae-c8df-4ceb-ad3f-17f7c4673320\">\n",
              "    <div class=\"colab-df-container\">\n",
              "      <div>\n",
              "<style scoped>\n",
              "    .dataframe tbody tr th:only-of-type {\n",
              "        vertical-align: middle;\n",
              "    }\n",
              "\n",
              "    .dataframe tbody tr th {\n",
              "        vertical-align: top;\n",
              "    }\n",
              "\n",
              "    .dataframe thead th {\n",
              "        text-align: right;\n",
              "    }\n",
              "</style>\n",
              "<table border=\"1\" class=\"dataframe\">\n",
              "  <thead>\n",
              "    <tr style=\"text-align: right;\">\n",
              "      <th></th>\n",
              "      <th>total_bill</th>\n",
              "      <th>tip</th>\n",
              "      <th>sex</th>\n",
              "      <th>smoker</th>\n",
              "      <th>day</th>\n",
              "      <th>time</th>\n",
              "      <th>size</th>\n",
              "    </tr>\n",
              "  </thead>\n",
              "  <tbody>\n",
              "    <tr>\n",
              "      <th>0</th>\n",
              "      <td>16.99</td>\n",
              "      <td>1.01</td>\n",
              "      <td>Female</td>\n",
              "      <td>No</td>\n",
              "      <td>Sun</td>\n",
              "      <td>Dinner</td>\n",
              "      <td>2</td>\n",
              "    </tr>\n",
              "    <tr>\n",
              "      <th>1</th>\n",
              "      <td>10.34</td>\n",
              "      <td>1.66</td>\n",
              "      <td>Male</td>\n",
              "      <td>No</td>\n",
              "      <td>Sun</td>\n",
              "      <td>Dinner</td>\n",
              "      <td>3</td>\n",
              "    </tr>\n",
              "    <tr>\n",
              "      <th>2</th>\n",
              "      <td>21.01</td>\n",
              "      <td>3.50</td>\n",
              "      <td>Male</td>\n",
              "      <td>No</td>\n",
              "      <td>Sun</td>\n",
              "      <td>Dinner</td>\n",
              "      <td>3</td>\n",
              "    </tr>\n",
              "    <tr>\n",
              "      <th>3</th>\n",
              "      <td>23.68</td>\n",
              "      <td>3.31</td>\n",
              "      <td>Male</td>\n",
              "      <td>No</td>\n",
              "      <td>Sun</td>\n",
              "      <td>Dinner</td>\n",
              "      <td>2</td>\n",
              "    </tr>\n",
              "    <tr>\n",
              "      <th>4</th>\n",
              "      <td>24.59</td>\n",
              "      <td>3.61</td>\n",
              "      <td>Female</td>\n",
              "      <td>No</td>\n",
              "      <td>Sun</td>\n",
              "      <td>Dinner</td>\n",
              "      <td>4</td>\n",
              "    </tr>\n",
              "  </tbody>\n",
              "</table>\n",
              "</div>\n",
              "      <button class=\"colab-df-convert\" onclick=\"convertToInteractive('df-740455ae-c8df-4ceb-ad3f-17f7c4673320')\"\n",
              "              title=\"Convert this dataframe to an interactive table.\"\n",
              "              style=\"display:none;\">\n",
              "        \n",
              "  <svg xmlns=\"http://www.w3.org/2000/svg\" height=\"24px\"viewBox=\"0 0 24 24\"\n",
              "       width=\"24px\">\n",
              "    <path d=\"M0 0h24v24H0V0z\" fill=\"none\"/>\n",
              "    <path d=\"M18.56 5.44l.94 2.06.94-2.06 2.06-.94-2.06-.94-.94-2.06-.94 2.06-2.06.94zm-11 1L8.5 8.5l.94-2.06 2.06-.94-2.06-.94L8.5 2.5l-.94 2.06-2.06.94zm10 10l.94 2.06.94-2.06 2.06-.94-2.06-.94-.94-2.06-.94 2.06-2.06.94z\"/><path d=\"M17.41 7.96l-1.37-1.37c-.4-.4-.92-.59-1.43-.59-.52 0-1.04.2-1.43.59L10.3 9.45l-7.72 7.72c-.78.78-.78 2.05 0 2.83L4 21.41c.39.39.9.59 1.41.59.51 0 1.02-.2 1.41-.59l7.78-7.78 2.81-2.81c.8-.78.8-2.07 0-2.86zM5.41 20L4 18.59l7.72-7.72 1.47 1.35L5.41 20z\"/>\n",
              "  </svg>\n",
              "      </button>\n",
              "      \n",
              "  <style>\n",
              "    .colab-df-container {\n",
              "      display:flex;\n",
              "      flex-wrap:wrap;\n",
              "      gap: 12px;\n",
              "    }\n",
              "\n",
              "    .colab-df-convert {\n",
              "      background-color: #E8F0FE;\n",
              "      border: none;\n",
              "      border-radius: 50%;\n",
              "      cursor: pointer;\n",
              "      display: none;\n",
              "      fill: #1967D2;\n",
              "      height: 32px;\n",
              "      padding: 0 0 0 0;\n",
              "      width: 32px;\n",
              "    }\n",
              "\n",
              "    .colab-df-convert:hover {\n",
              "      background-color: #E2EBFA;\n",
              "      box-shadow: 0px 1px 2px rgba(60, 64, 67, 0.3), 0px 1px 3px 1px rgba(60, 64, 67, 0.15);\n",
              "      fill: #174EA6;\n",
              "    }\n",
              "\n",
              "    [theme=dark] .colab-df-convert {\n",
              "      background-color: #3B4455;\n",
              "      fill: #D2E3FC;\n",
              "    }\n",
              "\n",
              "    [theme=dark] .colab-df-convert:hover {\n",
              "      background-color: #434B5C;\n",
              "      box-shadow: 0px 1px 3px 1px rgba(0, 0, 0, 0.15);\n",
              "      filter: drop-shadow(0px 1px 2px rgba(0, 0, 0, 0.3));\n",
              "      fill: #FFFFFF;\n",
              "    }\n",
              "  </style>\n",
              "\n",
              "      <script>\n",
              "        const buttonEl =\n",
              "          document.querySelector('#df-740455ae-c8df-4ceb-ad3f-17f7c4673320 button.colab-df-convert');\n",
              "        buttonEl.style.display =\n",
              "          google.colab.kernel.accessAllowed ? 'block' : 'none';\n",
              "\n",
              "        async function convertToInteractive(key) {\n",
              "          const element = document.querySelector('#df-740455ae-c8df-4ceb-ad3f-17f7c4673320');\n",
              "          const dataTable =\n",
              "            await google.colab.kernel.invokeFunction('convertToInteractive',\n",
              "                                                     [key], {});\n",
              "          if (!dataTable) return;\n",
              "\n",
              "          const docLinkHtml = 'Like what you see? Visit the ' +\n",
              "            '<a target=\"_blank\" href=https://colab.research.google.com/notebooks/data_table.ipynb>data table notebook</a>'\n",
              "            + ' to learn more about interactive tables.';\n",
              "          element.innerHTML = '';\n",
              "          dataTable['output_type'] = 'display_data';\n",
              "          await google.colab.output.renderOutput(dataTable, element);\n",
              "          const docLink = document.createElement('div');\n",
              "          docLink.innerHTML = docLinkHtml;\n",
              "          element.appendChild(docLink);\n",
              "        }\n",
              "      </script>\n",
              "    </div>\n",
              "  </div>\n",
              "  "
            ]
          },
          "metadata": {},
          "execution_count": 2
        }
      ]
    },
    {
      "cell_type": "markdown",
      "source": [
        "**Always properly clean and study the dataset before moving on to the actual job**"
      ],
      "metadata": {
        "id": "5dubdxRXcTnx"
      }
    },
    {
      "cell_type": "code",
      "source": [
        "df.isnull().sum(axis = 0)"
      ],
      "metadata": {
        "colab": {
          "base_uri": "https://localhost:8080/"
        },
        "id": "wSM3diW89nbX",
        "outputId": "6025f8ce-b954-4a0e-e2f1-6cfca9f53a82"
      },
      "execution_count": null,
      "outputs": [
        {
          "output_type": "execute_result",
          "data": {
            "text/plain": [
              "total_bill    0\n",
              "tip           0\n",
              "sex           0\n",
              "smoker        0\n",
              "day           0\n",
              "time          0\n",
              "size          0\n",
              "dtype: int64"
            ]
          },
          "metadata": {},
          "execution_count": 3
        }
      ]
    },
    {
      "cell_type": "code",
      "source": [
        "df.isna().sum()"
      ],
      "metadata": {
        "colab": {
          "base_uri": "https://localhost:8080/"
        },
        "id": "qzszlQTTcd7T",
        "outputId": "8c52a3b9-6dda-4fa7-904a-a38e9e5c008b"
      },
      "execution_count": null,
      "outputs": [
        {
          "output_type": "execute_result",
          "data": {
            "text/plain": [
              "total_bill    0\n",
              "tip           0\n",
              "sex           0\n",
              "smoker        0\n",
              "day           0\n",
              "time          0\n",
              "size          0\n",
              "dtype: int64"
            ]
          },
          "metadata": {},
          "execution_count": 4
        }
      ]
    },
    {
      "cell_type": "code",
      "source": [
        "df.describe()"
      ],
      "metadata": {
        "colab": {
          "base_uri": "https://localhost:8080/",
          "height": 300
        },
        "id": "h_O5MKCfzhyG",
        "outputId": "194fd8b0-4845-413b-ac6d-da98e376b074"
      },
      "execution_count": null,
      "outputs": [
        {
          "output_type": "execute_result",
          "data": {
            "text/plain": [
              "       total_bill         tip        size\n",
              "count  244.000000  244.000000  244.000000\n",
              "mean    19.785943    2.998279    2.569672\n",
              "std      8.902412    1.383638    0.951100\n",
              "min      3.070000    1.000000    1.000000\n",
              "25%     13.347500    2.000000    2.000000\n",
              "50%     17.795000    2.900000    2.000000\n",
              "75%     24.127500    3.562500    3.000000\n",
              "max     50.810000   10.000000    6.000000"
            ],
            "text/html": [
              "\n",
              "  <div id=\"df-3b419821-1416-4cd2-b023-072d98d09b69\">\n",
              "    <div class=\"colab-df-container\">\n",
              "      <div>\n",
              "<style scoped>\n",
              "    .dataframe tbody tr th:only-of-type {\n",
              "        vertical-align: middle;\n",
              "    }\n",
              "\n",
              "    .dataframe tbody tr th {\n",
              "        vertical-align: top;\n",
              "    }\n",
              "\n",
              "    .dataframe thead th {\n",
              "        text-align: right;\n",
              "    }\n",
              "</style>\n",
              "<table border=\"1\" class=\"dataframe\">\n",
              "  <thead>\n",
              "    <tr style=\"text-align: right;\">\n",
              "      <th></th>\n",
              "      <th>total_bill</th>\n",
              "      <th>tip</th>\n",
              "      <th>size</th>\n",
              "    </tr>\n",
              "  </thead>\n",
              "  <tbody>\n",
              "    <tr>\n",
              "      <th>count</th>\n",
              "      <td>244.000000</td>\n",
              "      <td>244.000000</td>\n",
              "      <td>244.000000</td>\n",
              "    </tr>\n",
              "    <tr>\n",
              "      <th>mean</th>\n",
              "      <td>19.785943</td>\n",
              "      <td>2.998279</td>\n",
              "      <td>2.569672</td>\n",
              "    </tr>\n",
              "    <tr>\n",
              "      <th>std</th>\n",
              "      <td>8.902412</td>\n",
              "      <td>1.383638</td>\n",
              "      <td>0.951100</td>\n",
              "    </tr>\n",
              "    <tr>\n",
              "      <th>min</th>\n",
              "      <td>3.070000</td>\n",
              "      <td>1.000000</td>\n",
              "      <td>1.000000</td>\n",
              "    </tr>\n",
              "    <tr>\n",
              "      <th>25%</th>\n",
              "      <td>13.347500</td>\n",
              "      <td>2.000000</td>\n",
              "      <td>2.000000</td>\n",
              "    </tr>\n",
              "    <tr>\n",
              "      <th>50%</th>\n",
              "      <td>17.795000</td>\n",
              "      <td>2.900000</td>\n",
              "      <td>2.000000</td>\n",
              "    </tr>\n",
              "    <tr>\n",
              "      <th>75%</th>\n",
              "      <td>24.127500</td>\n",
              "      <td>3.562500</td>\n",
              "      <td>3.000000</td>\n",
              "    </tr>\n",
              "    <tr>\n",
              "      <th>max</th>\n",
              "      <td>50.810000</td>\n",
              "      <td>10.000000</td>\n",
              "      <td>6.000000</td>\n",
              "    </tr>\n",
              "  </tbody>\n",
              "</table>\n",
              "</div>\n",
              "      <button class=\"colab-df-convert\" onclick=\"convertToInteractive('df-3b419821-1416-4cd2-b023-072d98d09b69')\"\n",
              "              title=\"Convert this dataframe to an interactive table.\"\n",
              "              style=\"display:none;\">\n",
              "        \n",
              "  <svg xmlns=\"http://www.w3.org/2000/svg\" height=\"24px\"viewBox=\"0 0 24 24\"\n",
              "       width=\"24px\">\n",
              "    <path d=\"M0 0h24v24H0V0z\" fill=\"none\"/>\n",
              "    <path d=\"M18.56 5.44l.94 2.06.94-2.06 2.06-.94-2.06-.94-.94-2.06-.94 2.06-2.06.94zm-11 1L8.5 8.5l.94-2.06 2.06-.94-2.06-.94L8.5 2.5l-.94 2.06-2.06.94zm10 10l.94 2.06.94-2.06 2.06-.94-2.06-.94-.94-2.06-.94 2.06-2.06.94z\"/><path d=\"M17.41 7.96l-1.37-1.37c-.4-.4-.92-.59-1.43-.59-.52 0-1.04.2-1.43.59L10.3 9.45l-7.72 7.72c-.78.78-.78 2.05 0 2.83L4 21.41c.39.39.9.59 1.41.59.51 0 1.02-.2 1.41-.59l7.78-7.78 2.81-2.81c.8-.78.8-2.07 0-2.86zM5.41 20L4 18.59l7.72-7.72 1.47 1.35L5.41 20z\"/>\n",
              "  </svg>\n",
              "      </button>\n",
              "      \n",
              "  <style>\n",
              "    .colab-df-container {\n",
              "      display:flex;\n",
              "      flex-wrap:wrap;\n",
              "      gap: 12px;\n",
              "    }\n",
              "\n",
              "    .colab-df-convert {\n",
              "      background-color: #E8F0FE;\n",
              "      border: none;\n",
              "      border-radius: 50%;\n",
              "      cursor: pointer;\n",
              "      display: none;\n",
              "      fill: #1967D2;\n",
              "      height: 32px;\n",
              "      padding: 0 0 0 0;\n",
              "      width: 32px;\n",
              "    }\n",
              "\n",
              "    .colab-df-convert:hover {\n",
              "      background-color: #E2EBFA;\n",
              "      box-shadow: 0px 1px 2px rgba(60, 64, 67, 0.3), 0px 1px 3px 1px rgba(60, 64, 67, 0.15);\n",
              "      fill: #174EA6;\n",
              "    }\n",
              "\n",
              "    [theme=dark] .colab-df-convert {\n",
              "      background-color: #3B4455;\n",
              "      fill: #D2E3FC;\n",
              "    }\n",
              "\n",
              "    [theme=dark] .colab-df-convert:hover {\n",
              "      background-color: #434B5C;\n",
              "      box-shadow: 0px 1px 3px 1px rgba(0, 0, 0, 0.15);\n",
              "      filter: drop-shadow(0px 1px 2px rgba(0, 0, 0, 0.3));\n",
              "      fill: #FFFFFF;\n",
              "    }\n",
              "  </style>\n",
              "\n",
              "      <script>\n",
              "        const buttonEl =\n",
              "          document.querySelector('#df-3b419821-1416-4cd2-b023-072d98d09b69 button.colab-df-convert');\n",
              "        buttonEl.style.display =\n",
              "          google.colab.kernel.accessAllowed ? 'block' : 'none';\n",
              "\n",
              "        async function convertToInteractive(key) {\n",
              "          const element = document.querySelector('#df-3b419821-1416-4cd2-b023-072d98d09b69');\n",
              "          const dataTable =\n",
              "            await google.colab.kernel.invokeFunction('convertToInteractive',\n",
              "                                                     [key], {});\n",
              "          if (!dataTable) return;\n",
              "\n",
              "          const docLinkHtml = 'Like what you see? Visit the ' +\n",
              "            '<a target=\"_blank\" href=https://colab.research.google.com/notebooks/data_table.ipynb>data table notebook</a>'\n",
              "            + ' to learn more about interactive tables.';\n",
              "          element.innerHTML = '';\n",
              "          dataTable['output_type'] = 'display_data';\n",
              "          await google.colab.output.renderOutput(dataTable, element);\n",
              "          const docLink = document.createElement('div');\n",
              "          docLink.innerHTML = docLinkHtml;\n",
              "          element.appendChild(docLink);\n",
              "        }\n",
              "      </script>\n",
              "    </div>\n",
              "  </div>\n",
              "  "
            ]
          },
          "metadata": {},
          "execution_count": 5
        }
      ]
    },
    {
      "cell_type": "code",
      "source": [
        "df.info()"
      ],
      "metadata": {
        "colab": {
          "base_uri": "https://localhost:8080/"
        },
        "id": "qYAVVRbNz1v-",
        "outputId": "c015178f-efa3-4e0b-d93b-42c1a0c453d5"
      },
      "execution_count": null,
      "outputs": [
        {
          "output_type": "stream",
          "name": "stdout",
          "text": [
            "<class 'pandas.core.frame.DataFrame'>\n",
            "RangeIndex: 244 entries, 0 to 243\n",
            "Data columns (total 7 columns):\n",
            " #   Column      Non-Null Count  Dtype   \n",
            "---  ------      --------------  -----   \n",
            " 0   total_bill  244 non-null    float64 \n",
            " 1   tip         244 non-null    float64 \n",
            " 2   sex         244 non-null    category\n",
            " 3   smoker      244 non-null    category\n",
            " 4   day         244 non-null    category\n",
            " 5   time        244 non-null    category\n",
            " 6   size        244 non-null    int64   \n",
            "dtypes: category(4), float64(2), int64(1)\n",
            "memory usage: 7.4 KB\n"
          ]
        }
      ]
    },
    {
      "cell_type": "markdown",
      "source": [
        "**Encoding the categorical values into numerical values**"
      ],
      "metadata": {
        "id": "skYpjUDJY3Lg"
      }
    },
    {
      "cell_type": "code",
      "source": [
        "df['smoker'] = np.where(df['smoker']=='Yes', 1, 0)\n",
        "df['sex'] = np.where(df['sex']=='Female', 1, 0)\n",
        "df['time'] = np.where(df['time']=='Dinner', 1, 0)"
      ],
      "metadata": {
        "id": "kmbsTPqGY2sp"
      },
      "execution_count": null,
      "outputs": []
    },
    {
      "cell_type": "markdown",
      "source": [
        "**One hot encoding the 'day' values and concatinating with original dataframe**"
      ],
      "metadata": {
        "id": "XLb_wAAcgBtk"
      }
    },
    {
      "cell_type": "code",
      "source": [
        "days = pd.get_dummies(pd.DataFrame(df['day']), drop_first=True)\n",
        "df.drop(['day'],axis = 1,inplace = True)\n",
        "df = pd.concat([df, days], axis=1, join='inner')\n",
        "df.head()"
      ],
      "metadata": {
        "colab": {
          "base_uri": "https://localhost:8080/",
          "height": 206
        },
        "id": "C-teVFI4c_pn",
        "outputId": "0a84b4c3-9152-464a-aca9-d87e502cecea"
      },
      "execution_count": null,
      "outputs": [
        {
          "output_type": "execute_result",
          "data": {
            "text/plain": [
              "   total_bill   tip  sex  smoker  time  size  day_Fri  day_Sat  day_Sun\n",
              "0       16.99  1.01    1       0     1     2        0        0        1\n",
              "1       10.34  1.66    0       0     1     3        0        0        1\n",
              "2       21.01  3.50    0       0     1     3        0        0        1\n",
              "3       23.68  3.31    0       0     1     2        0        0        1\n",
              "4       24.59  3.61    1       0     1     4        0        0        1"
            ],
            "text/html": [
              "\n",
              "  <div id=\"df-3c2332ae-0096-4cb3-9536-ebcddb789b4d\">\n",
              "    <div class=\"colab-df-container\">\n",
              "      <div>\n",
              "<style scoped>\n",
              "    .dataframe tbody tr th:only-of-type {\n",
              "        vertical-align: middle;\n",
              "    }\n",
              "\n",
              "    .dataframe tbody tr th {\n",
              "        vertical-align: top;\n",
              "    }\n",
              "\n",
              "    .dataframe thead th {\n",
              "        text-align: right;\n",
              "    }\n",
              "</style>\n",
              "<table border=\"1\" class=\"dataframe\">\n",
              "  <thead>\n",
              "    <tr style=\"text-align: right;\">\n",
              "      <th></th>\n",
              "      <th>total_bill</th>\n",
              "      <th>tip</th>\n",
              "      <th>sex</th>\n",
              "      <th>smoker</th>\n",
              "      <th>time</th>\n",
              "      <th>size</th>\n",
              "      <th>day_Fri</th>\n",
              "      <th>day_Sat</th>\n",
              "      <th>day_Sun</th>\n",
              "    </tr>\n",
              "  </thead>\n",
              "  <tbody>\n",
              "    <tr>\n",
              "      <th>0</th>\n",
              "      <td>16.99</td>\n",
              "      <td>1.01</td>\n",
              "      <td>1</td>\n",
              "      <td>0</td>\n",
              "      <td>1</td>\n",
              "      <td>2</td>\n",
              "      <td>0</td>\n",
              "      <td>0</td>\n",
              "      <td>1</td>\n",
              "    </tr>\n",
              "    <tr>\n",
              "      <th>1</th>\n",
              "      <td>10.34</td>\n",
              "      <td>1.66</td>\n",
              "      <td>0</td>\n",
              "      <td>0</td>\n",
              "      <td>1</td>\n",
              "      <td>3</td>\n",
              "      <td>0</td>\n",
              "      <td>0</td>\n",
              "      <td>1</td>\n",
              "    </tr>\n",
              "    <tr>\n",
              "      <th>2</th>\n",
              "      <td>21.01</td>\n",
              "      <td>3.50</td>\n",
              "      <td>0</td>\n",
              "      <td>0</td>\n",
              "      <td>1</td>\n",
              "      <td>3</td>\n",
              "      <td>0</td>\n",
              "      <td>0</td>\n",
              "      <td>1</td>\n",
              "    </tr>\n",
              "    <tr>\n",
              "      <th>3</th>\n",
              "      <td>23.68</td>\n",
              "      <td>3.31</td>\n",
              "      <td>0</td>\n",
              "      <td>0</td>\n",
              "      <td>1</td>\n",
              "      <td>2</td>\n",
              "      <td>0</td>\n",
              "      <td>0</td>\n",
              "      <td>1</td>\n",
              "    </tr>\n",
              "    <tr>\n",
              "      <th>4</th>\n",
              "      <td>24.59</td>\n",
              "      <td>3.61</td>\n",
              "      <td>1</td>\n",
              "      <td>0</td>\n",
              "      <td>1</td>\n",
              "      <td>4</td>\n",
              "      <td>0</td>\n",
              "      <td>0</td>\n",
              "      <td>1</td>\n",
              "    </tr>\n",
              "  </tbody>\n",
              "</table>\n",
              "</div>\n",
              "      <button class=\"colab-df-convert\" onclick=\"convertToInteractive('df-3c2332ae-0096-4cb3-9536-ebcddb789b4d')\"\n",
              "              title=\"Convert this dataframe to an interactive table.\"\n",
              "              style=\"display:none;\">\n",
              "        \n",
              "  <svg xmlns=\"http://www.w3.org/2000/svg\" height=\"24px\"viewBox=\"0 0 24 24\"\n",
              "       width=\"24px\">\n",
              "    <path d=\"M0 0h24v24H0V0z\" fill=\"none\"/>\n",
              "    <path d=\"M18.56 5.44l.94 2.06.94-2.06 2.06-.94-2.06-.94-.94-2.06-.94 2.06-2.06.94zm-11 1L8.5 8.5l.94-2.06 2.06-.94-2.06-.94L8.5 2.5l-.94 2.06-2.06.94zm10 10l.94 2.06.94-2.06 2.06-.94-2.06-.94-.94-2.06-.94 2.06-2.06.94z\"/><path d=\"M17.41 7.96l-1.37-1.37c-.4-.4-.92-.59-1.43-.59-.52 0-1.04.2-1.43.59L10.3 9.45l-7.72 7.72c-.78.78-.78 2.05 0 2.83L4 21.41c.39.39.9.59 1.41.59.51 0 1.02-.2 1.41-.59l7.78-7.78 2.81-2.81c.8-.78.8-2.07 0-2.86zM5.41 20L4 18.59l7.72-7.72 1.47 1.35L5.41 20z\"/>\n",
              "  </svg>\n",
              "      </button>\n",
              "      \n",
              "  <style>\n",
              "    .colab-df-container {\n",
              "      display:flex;\n",
              "      flex-wrap:wrap;\n",
              "      gap: 12px;\n",
              "    }\n",
              "\n",
              "    .colab-df-convert {\n",
              "      background-color: #E8F0FE;\n",
              "      border: none;\n",
              "      border-radius: 50%;\n",
              "      cursor: pointer;\n",
              "      display: none;\n",
              "      fill: #1967D2;\n",
              "      height: 32px;\n",
              "      padding: 0 0 0 0;\n",
              "      width: 32px;\n",
              "    }\n",
              "\n",
              "    .colab-df-convert:hover {\n",
              "      background-color: #E2EBFA;\n",
              "      box-shadow: 0px 1px 2px rgba(60, 64, 67, 0.3), 0px 1px 3px 1px rgba(60, 64, 67, 0.15);\n",
              "      fill: #174EA6;\n",
              "    }\n",
              "\n",
              "    [theme=dark] .colab-df-convert {\n",
              "      background-color: #3B4455;\n",
              "      fill: #D2E3FC;\n",
              "    }\n",
              "\n",
              "    [theme=dark] .colab-df-convert:hover {\n",
              "      background-color: #434B5C;\n",
              "      box-shadow: 0px 1px 3px 1px rgba(0, 0, 0, 0.15);\n",
              "      filter: drop-shadow(0px 1px 2px rgba(0, 0, 0, 0.3));\n",
              "      fill: #FFFFFF;\n",
              "    }\n",
              "  </style>\n",
              "\n",
              "      <script>\n",
              "        const buttonEl =\n",
              "          document.querySelector('#df-3c2332ae-0096-4cb3-9536-ebcddb789b4d button.colab-df-convert');\n",
              "        buttonEl.style.display =\n",
              "          google.colab.kernel.accessAllowed ? 'block' : 'none';\n",
              "\n",
              "        async function convertToInteractive(key) {\n",
              "          const element = document.querySelector('#df-3c2332ae-0096-4cb3-9536-ebcddb789b4d');\n",
              "          const dataTable =\n",
              "            await google.colab.kernel.invokeFunction('convertToInteractive',\n",
              "                                                     [key], {});\n",
              "          if (!dataTable) return;\n",
              "\n",
              "          const docLinkHtml = 'Like what you see? Visit the ' +\n",
              "            '<a target=\"_blank\" href=https://colab.research.google.com/notebooks/data_table.ipynb>data table notebook</a>'\n",
              "            + ' to learn more about interactive tables.';\n",
              "          element.innerHTML = '';\n",
              "          dataTable['output_type'] = 'display_data';\n",
              "          await google.colab.output.renderOutput(dataTable, element);\n",
              "          const docLink = document.createElement('div');\n",
              "          docLink.innerHTML = docLinkHtml;\n",
              "          element.appendChild(docLink);\n",
              "        }\n",
              "      </script>\n",
              "    </div>\n",
              "  </div>\n",
              "  "
            ]
          },
          "metadata": {},
          "execution_count": 8
        }
      ]
    },
    {
      "cell_type": "code",
      "source": [
        "df['time'].unique()"
      ],
      "metadata": {
        "colab": {
          "base_uri": "https://localhost:8080/"
        },
        "id": "GsR1AsxrbpG2",
        "outputId": "d4236123-5ea0-495a-ff79-afb230c8a5fe"
      },
      "execution_count": null,
      "outputs": [
        {
          "output_type": "execute_result",
          "data": {
            "text/plain": [
              "array([1, 0])"
            ]
          },
          "metadata": {},
          "execution_count": 9
        }
      ]
    },
    {
      "cell_type": "markdown",
      "source": [
        "**Tips is a relatively simple dataset, we can consider all the amounts to be in $. Now , considering that \"tip\" is to be our predicted value(y) we find its correllation with the other numeric values in the dataset.**"
      ],
      "metadata": {
        "id": "pcLo2uMgcjgZ"
      }
    },
    {
      "cell_type": "code",
      "source": [
        "df.corr()['tip']"
      ],
      "metadata": {
        "colab": {
          "base_uri": "https://localhost:8080/"
        },
        "id": "VpcHs3w9deBt",
        "outputId": "3bff180e-463e-4816-9759-b8dcb39b449c"
      },
      "execution_count": null,
      "outputs": [
        {
          "output_type": "execute_result",
          "data": {
            "text/plain": [
              "total_bill    0.675734\n",
              "tip           1.000000\n",
              "sex          -0.088862\n",
              "smoker        0.005929\n",
              "time          0.121629\n",
              "size          0.489299\n",
              "day_Fri      -0.055463\n",
              "day_Sat      -0.002790\n",
              "day_Sun       0.125114\n",
              "Name: tip, dtype: float64"
            ]
          },
          "metadata": {},
          "execution_count": 10
        }
      ]
    },
    {
      "cell_type": "markdown",
      "source": [
        "**It is observed that tip is positively and strongly correlated with both \"total_bill\" as well as \"size\"**\n",
        "\n",
        "**Before we move on, we check the correlation of the other numeric variables on each other. A heatmap will be appropriate for this purpose.**"
      ],
      "metadata": {
        "id": "y3XnOl9yd7oL"
      }
    },
    {
      "cell_type": "code",
      "source": [
        "plt.figure(1,(8,6))\n",
        "sns.heatmap(df.corr(),annot=True,cmap = sns.color_palette(\"summer_r\"))\n",
        "plt.show()"
      ],
      "metadata": {
        "colab": {
          "base_uri": "https://localhost:8080/",
          "height": 411
        },
        "id": "la7waMlfd3yS",
        "outputId": "1608f65d-6a5f-496c-8df5-434e58c96501"
      },
      "execution_count": null,
      "outputs": [
        {
          "output_type": "display_data",
          "data": {
            "text/plain": [
              "<Figure size 576x432 with 2 Axes>"
            ],
            "image/png": "[encoded data removed]"
          },
          "metadata": {
            "needs_background": "light"
          }
        }
      ]
    },
    {
      "cell_type": "markdown",
      "source": [
        "**As seen from the heatmap, there is a direct relationsip between total_bill and size of the meal, therefore we choose one of the parameters only to avoid [Multicollinearity](https://towardsdatascience.com/multi-collinearity-in-regression-fe7a2c1467ea#:~:text=When%20independent%20variables%20are%20highly,in%20the%20data%20or%20model.)**\n",
        "\n",
        "**Here we choose total_bill since it's R value is higher compared to size, for tip**"
      ],
      "metadata": {
        "id": "PvMWQd1wfj2O"
      }
    },
    {
      "cell_type": "markdown",
      "source": [
        "**Now we create a histplot to view the general distribution of total_bills, tips and then we create boxplots of the tip as well as the total_bill to find [outliers](https://www.tutorialspoint.com/mean_median_and_mode/finding_outliers_in_data_set.htm).** \n",
        "\n",
        "**(This step can be optional if the given dataset is already known to be a good one)**"
      ],
      "metadata": {
        "id": "TvLuZKc_ybVT"
      }
    },
    {
      "cell_type": "code",
      "source": [
        "plt.figure(0,(15,5))\n",
        "plt.subplot(121)\n",
        "sns.histplot(df['total_bill'], kde = True)\n",
        "plt.subplot(122)\n",
        "sns.histplot(df['tip'], kde = True)\n",
        "plt.show()"
      ],
      "metadata": {
        "colab": {
          "base_uri": "https://localhost:8080/",
          "height": 336
        },
        "id": "W4vp6iy517W4",
        "outputId": "3b37232e-8ce8-4e4a-8681-75db584bad41"
      },
      "execution_count": null,
      "outputs": [
        {
          "output_type": "display_data",
          "data": {
            "text/plain": [
              "<Figure size 1080x360 with 2 Axes>"
            ],
            "image/png": "[encoded data removed]"
          },
          "metadata": {
            "needs_background": "light"
          }
        }
      ]
    },
    {
      "cell_type": "code",
      "source": [
        "plt.figure(1,(10,4))\n",
        "plt.subplot(121)\n",
        "sns.boxplot(x = df['tip'])\n",
        "plt.subplot(122)\n",
        "sns.boxplot(x = df['total_bill'])\n",
        "plt.show()"
      ],
      "metadata": {
        "colab": {
          "base_uri": "https://localhost:8080/",
          "height": 280
        },
        "id": "WqTi5xQRgV41",
        "outputId": "4eb7d986-b254-4c08-9381-c04d1ac1b61a"
      },
      "execution_count": null,
      "outputs": [
        {
          "output_type": "display_data",
          "data": {
            "text/plain": [
              "<Figure size 720x288 with 2 Axes>"
            ],
            "image/png": "[encoded data removed]"
          },
          "metadata": {
            "needs_background": "light"
          }
        }
      ]
    },
    {
      "cell_type": "markdown",
      "source": [
        "**It can be observed that there are very few extreme outliers in the dataset and the dataset can be used as it is without further modification**"
      ],
      "metadata": {
        "id": "7lq85IbI0zA3"
      }
    },
    {
      "cell_type": "markdown",
      "source": [
        "## Training Portion"
      ],
      "metadata": {
        "id": "Inyh7DL97kSg"
      }
    },
    {
      "cell_type": "markdown",
      "source": [
        "Now we can consider tip as dependent variable(y) and total_bill as the independent variable(x)"
      ],
      "metadata": {
        "id": "sU_6GMHH5got"
      }
    },
    {
      "cell_type": "markdown",
      "source": [
        "**So the next step is to decide which model may be appropriate for the problem by plotting the independent variable w.r.t the dependent variable**"
      ],
      "metadata": {
        "id": "9huEBauJ7zk3"
      }
    },
    {
      "cell_type": "code",
      "source": [
        "sns.scatterplot(data = df, x = 'total_bill', y = 'tip')\n",
        "plt.show()"
      ],
      "metadata": {
        "colab": {
          "base_uri": "https://localhost:8080/",
          "height": 280
        },
        "id": "Le442Son7zPv",
        "outputId": "b8031caa-59a4-4284-c8ca-ddd63f0503c8"
      },
      "execution_count": null,
      "outputs": [
        {
          "output_type": "display_data",
          "data": {
            "text/plain": [
              "<Figure size 432x288 with 1 Axes>"
            ],
            "image/png": "[encoded data removed]"
          },
          "metadata": {
            "needs_background": "light"
          }
        }
      ]
    },
    {
      "cell_type": "markdown",
      "source": [
        "**For our second model which needs to be more accurate we do the following instead**"
      ],
      "metadata": {
        "id": "c7iksZHghBHt"
      }
    },
    {
      "cell_type": "code",
      "source": [
        "sns.pairplot(data=df,\n",
        "              y_vars=['tip'],\n",
        "              x_vars=df.drop(['tip','size'], axis=1).columns\n",
        "            )\n",
        "plt.show()"
      ],
      "metadata": {
        "colab": {
          "base_uri": "https://localhost:8080/",
          "height": 197
        },
        "id": "u-p-CnXHhHK3",
        "outputId": "1ae00d1d-2273-4fae-b867-c258f49303ac"
      },
      "execution_count": null,
      "outputs": [
        {
          "output_type": "display_data",
          "data": {
            "text/plain": [
              "<Figure size 1260x180 with 7 Axes>"
            ],
            "image/png": "[encoded data removed]"
          },
          "metadata": {
            "needs_background": "light"
          }
        }
      ]
    },
    {
      "cell_type": "markdown",
      "source": [
        "**Based on the plot it can be inferred that a simple linear regression model will be sufficient for our usecase.. now we split the data into training and testing segments and train the model using the training data**"
      ],
      "metadata": {
        "id": "pfN2zKwp8L4H"
      }
    },
    {
      "cell_type": "code",
      "source": [
        "X = np.array(df['total_bill']).reshape(-1,1)\n",
        "y = np.array(df['tip']).reshape(-1,1)\n",
        "\n",
        "X_train, X_test, y_train, y_test = train_test_split(X, y, test_size = 0.25)\n",
        "model_1 = LinearRegression()\n",
        "model_1.fit(X_train,y_train)"
      ],
      "metadata": {
        "colab": {
          "base_uri": "https://localhost:8080/"
        },
        "id": "u7sqYQP30x__",
        "outputId": "5934b601-2cf0-4096-c685-9330dacf24aa"
      },
      "execution_count": null,
      "outputs": [
        {
          "output_type": "execute_result",
          "data": {
            "text/plain": [
              "LinearRegression()"
            ]
          },
          "metadata": {},
          "execution_count": 16
        }
      ]
    },
    {
      "cell_type": "markdown",
      "source": [
        "**Based on the pairplot it can be inferred that a multiple linear regression model will be sufficient for our usecase.. now we split the data into training and testing segments and train the model using the training data**"
      ],
      "metadata": {
        "id": "j1V7obOLiUff"
      }
    },
    {
      "cell_type": "code",
      "source": [
        "X1 = df.drop(['tip','size'], axis=1).values\n",
        "y1 = np.array(df['tip']).reshape(-1,1)\n",
        "\n",
        "X1_train, X1_test, y1_train, y1_test = train_test_split(X1, y1,test_size = 0.25)\n",
        "model_2 = LinearRegression()\n",
        "model_2.fit(X1_train,y1_train)"
      ],
      "metadata": {
        "colab": {
          "base_uri": "https://localhost:8080/"
        },
        "id": "5xBuqnbYiTzf",
        "outputId": "496eb2a5-d684-404d-b94a-6d28409fa74e"
      },
      "execution_count": null,
      "outputs": [
        {
          "output_type": "execute_result",
          "data": {
            "text/plain": [
              "LinearRegression()"
            ]
          },
          "metadata": {},
          "execution_count": 17
        }
      ]
    },
    {
      "cell_type": "markdown",
      "source": [
        "**Before making our model predict, we check it's $R^2$ Score on train and test data for getting an overall idea about the performance of our regressor**"
      ],
      "metadata": {
        "id": "XeWwdyAI9Y9h"
      }
    },
    {
      "cell_type": "code",
      "source": [
        "print(\"Model 1 Train R^2:\",round(model_1.score(X_train,y_train),3))\n",
        "print(\"Model 1 Test R^2:\",round(model_1.score(X_test,y_test),3))"
      ],
      "metadata": {
        "colab": {
          "base_uri": "https://localhost:8080/"
        },
        "id": "wDMjmpOq944B",
        "outputId": "33b8698a-8e63-4f43-bad2-1f7e4c751893"
      },
      "execution_count": null,
      "outputs": [
        {
          "output_type": "stream",
          "name": "stdout",
          "text": [
            "Model 1 Train R^2: 0.542\n",
            "Model 1 Test R^2: -0.206\n"
          ]
        }
      ]
    },
    {
      "cell_type": "code",
      "source": [
        "print(\"Model 2 Train R^2:\",round(model_2.score(X1_train,y1_train),3))\n",
        "print(\"Model 2 Test R^2:\",round(model_2.score(X1_test,y1_test),3))"
      ],
      "metadata": {
        "colab": {
          "base_uri": "https://localhost:8080/"
        },
        "id": "qWA-1BOvkW_r",
        "outputId": "44ce3411-0753-46fb-fb56-3e8366817e0b"
      },
      "execution_count": null,
      "outputs": [
        {
          "output_type": "stream",
          "name": "stdout",
          "text": [
            "Model 2 Train R^2: 0.447\n",
            "Model 2 Test R^2: 0.481\n"
          ]
        }
      ]
    },
    {
      "cell_type": "markdown",
      "source": [
        "## Prediction and testing portion"
      ],
      "metadata": {
        "id": "QpLw98EYFA_C"
      }
    },
    {
      "cell_type": "markdown",
      "source": [
        "**Now we make our model predict test values of y_test and compare it with the actual values.**"
      ],
      "metadata": {
        "id": "Fcnsuqkf-zFa"
      }
    },
    {
      "cell_type": "code",
      "source": [
        "predictions_1 =  model_1.predict(X_test)\n",
        "comparison_df1 = pd.DataFrame({'Actual': y_test.flatten(), 'Predicted': predictions_1.flatten()})\n",
        "comparison_df1.head()"
      ],
      "metadata": {
        "colab": {
          "base_uri": "https://localhost:8080/",
          "height": 206
        },
        "id": "pnvhkykn_RYz",
        "outputId": "d6de6357-64a3-4362-acbd-11206c5dcacd"
      },
      "execution_count": null,
      "outputs": [
        {
          "output_type": "execute_result",
          "data": {
            "text/plain": [
              "   Actual  Predicted\n",
              "0    5.17   4.857971\n",
              "1    2.00   1.608302\n",
              "2    2.72   2.294634\n",
              "3    1.01   2.735933\n",
              "4    2.00   1.915189"
            ],
            "text/html": [
              "\n",
              "  <div id=\"df-a7e0c28c-7d0c-4ef5-ac2e-c4e13d1a9425\">\n",
              "    <div class=\"colab-df-container\">\n",
              "      <div>\n",
              "<style scoped>\n",
              "    .dataframe tbody tr th:only-of-type {\n",
              "        vertical-align: middle;\n",
              "    }\n",
              "\n",
              "    .dataframe tbody tr th {\n",
              "        vertical-align: top;\n",
              "    }\n",
              "\n",
              "    .dataframe thead th {\n",
              "        text-align: right;\n",
              "    }\n",
              "</style>\n",
              "<table border=\"1\" class=\"dataframe\">\n",
              "  <thead>\n",
              "    <tr style=\"text-align: right;\">\n",
              "      <th></th>\n",
              "      <th>Actual</th>\n",
              "      <th>Predicted</th>\n",
              "    </tr>\n",
              "  </thead>\n",
              "  <tbody>\n",
              "    <tr>\n",
              "      <th>0</th>\n",
              "      <td>5.17</td>\n",
              "      <td>4.857971</td>\n",
              "    </tr>\n",
              "    <tr>\n",
              "      <th>1</th>\n",
              "      <td>2.00</td>\n",
              "      <td>1.608302</td>\n",
              "    </tr>\n",
              "    <tr>\n",
              "      <th>2</th>\n",
              "      <td>2.72</td>\n",
              "      <td>2.294634</td>\n",
              "    </tr>\n",
              "    <tr>\n",
              "      <th>3</th>\n",
              "      <td>1.01</td>\n",
              "      <td>2.735933</td>\n",
              "    </tr>\n",
              "    <tr>\n",
              "      <th>4</th>\n",
              "      <td>2.00</td>\n",
              "      <td>1.915189</td>\n",
              "    </tr>\n",
              "  </tbody>\n",
              "</table>\n",
              "</div>\n",
              "      <button class=\"colab-df-convert\" onclick=\"convertToInteractive('df-a7e0c28c-7d0c-4ef5-ac2e-c4e13d1a9425')\"\n",
              "              title=\"Convert this dataframe to an interactive table.\"\n",
              "              style=\"display:none;\">\n",
              "        \n",
              "  <svg xmlns=\"http://www.w3.org/2000/svg\" height=\"24px\"viewBox=\"0 0 24 24\"\n",
              "       width=\"24px\">\n",
              "    <path d=\"M0 0h24v24H0V0z\" fill=\"none\"/>\n",
              "    <path d=\"M18.56 5.44l.94 2.06.94-2.06 2.06-.94-2.06-.94-.94-2.06-.94 2.06-2.06.94zm-11 1L8.5 8.5l.94-2.06 2.06-.94-2.06-.94L8.5 2.5l-.94 2.06-2.06.94zm10 10l.94 2.06.94-2.06 2.06-.94-2.06-.94-.94-2.06-.94 2.06-2.06.94z\"/><path d=\"M17.41 7.96l-1.37-1.37c-.4-.4-.92-.59-1.43-.59-.52 0-1.04.2-1.43.59L10.3 9.45l-7.72 7.72c-.78.78-.78 2.05 0 2.83L4 21.41c.39.39.9.59 1.41.59.51 0 1.02-.2 1.41-.59l7.78-7.78 2.81-2.81c.8-.78.8-2.07 0-2.86zM5.41 20L4 18.59l7.72-7.72 1.47 1.35L5.41 20z\"/>\n",
              "  </svg>\n",
              "      </button>\n",
              "      \n",
              "  <style>\n",
              "    .colab-df-container {\n",
              "      display:flex;\n",
              "      flex-wrap:wrap;\n",
              "      gap: 12px;\n",
              "    }\n",
              "\n",
              "    .colab-df-convert {\n",
              "      background-color: #E8F0FE;\n",
              "      border: none;\n",
              "      border-radius: 50%;\n",
              "      cursor: pointer;\n",
              "      display: none;\n",
              "      fill: #1967D2;\n",
              "      height: 32px;\n",
              "      padding: 0 0 0 0;\n",
              "      width: 32px;\n",
              "    }\n",
              "\n",
              "    .colab-df-convert:hover {\n",
              "      background-color: #E2EBFA;\n",
              "      box-shadow: 0px 1px 2px rgba(60, 64, 67, 0.3), 0px 1px 3px 1px rgba(60, 64, 67, 0.15);\n",
              "      fill: #174EA6;\n",
              "    }\n",
              "\n",
              "    [theme=dark] .colab-df-convert {\n",
              "      background-color: #3B4455;\n",
              "      fill: #D2E3FC;\n",
              "    }\n",
              "\n",
              "    [theme=dark] .colab-df-convert:hover {\n",
              "      background-color: #434B5C;\n",
              "      box-shadow: 0px 1px 3px 1px rgba(0, 0, 0, 0.15);\n",
              "      filter: drop-shadow(0px 1px 2px rgba(0, 0, 0, 0.3));\n",
              "      fill: #FFFFFF;\n",
              "    }\n",
              "  </style>\n",
              "\n",
              "      <script>\n",
              "        const buttonEl =\n",
              "          document.querySelector('#df-a7e0c28c-7d0c-4ef5-ac2e-c4e13d1a9425 button.colab-df-convert');\n",
              "        buttonEl.style.display =\n",
              "          google.colab.kernel.accessAllowed ? 'block' : 'none';\n",
              "\n",
              "        async function convertToInteractive(key) {\n",
              "          const element = document.querySelector('#df-a7e0c28c-7d0c-4ef5-ac2e-c4e13d1a9425');\n",
              "          const dataTable =\n",
              "            await google.colab.kernel.invokeFunction('convertToInteractive',\n",
              "                                                     [key], {});\n",
              "          if (!dataTable) return;\n",
              "\n",
              "          const docLinkHtml = 'Like what you see? Visit the ' +\n",
              "            '<a target=\"_blank\" href=https://colab.research.google.com/notebooks/data_table.ipynb>data table notebook</a>'\n",
              "            + ' to learn more about interactive tables.';\n",
              "          element.innerHTML = '';\n",
              "          dataTable['output_type'] = 'display_data';\n",
              "          await google.colab.output.renderOutput(dataTable, element);\n",
              "          const docLink = document.createElement('div');\n",
              "          docLink.innerHTML = docLinkHtml;\n",
              "          element.appendChild(docLink);\n",
              "        }\n",
              "      </script>\n",
              "    </div>\n",
              "  </div>\n",
              "  "
            ]
          },
          "metadata": {},
          "execution_count": 20
        }
      ]
    },
    {
      "cell_type": "code",
      "source": [
        "predictions_2 =  model_2.predict(X1_test)\n",
        "comparison_df2 = pd.DataFrame({'Actual': y1_test.flatten(), 'Predicted': predictions_2.flatten()})\n",
        "comparison_df2.head()"
      ],
      "metadata": {
        "colab": {
          "base_uri": "https://localhost:8080/",
          "height": 206
        },
        "id": "N_hkCpkzk9W0",
        "outputId": "ac76bdd7-9485-4f69-a0d5-f95a2ca50a20"
      },
      "execution_count": null,
      "outputs": [
        {
          "output_type": "execute_result",
          "data": {
            "text/plain": [
              "   Actual  Predicted\n",
              "0    2.00   2.684493\n",
              "1    4.50   4.345575\n",
              "2    2.02   2.546081\n",
              "3    1.92   1.926799\n",
              "4    4.00   2.635260"
            ],
            "text/html": [
              "\n",
              "  <div id=\"df-4b9ce3ba-2ddb-45ad-858e-4e92dd986fd9\">\n",
              "    <div class=\"colab-df-container\">\n",
              "      <div>\n",
              "<style scoped>\n",
              "    .dataframe tbody tr th:only-of-type {\n",
              "        vertical-align: middle;\n",
              "    }\n",
              "\n",
              "    .dataframe tbody tr th {\n",
              "        vertical-align: top;\n",
              "    }\n",
              "\n",
              "    .dataframe thead th {\n",
              "        text-align: right;\n",
              "    }\n",
              "</style>\n",
              "<table border=\"1\" class=\"dataframe\">\n",
              "  <thead>\n",
              "    <tr style=\"text-align: right;\">\n",
              "      <th></th>\n",
              "      <th>Actual</th>\n",
              "      <th>Predicted</th>\n",
              "    </tr>\n",
              "  </thead>\n",
              "  <tbody>\n",
              "    <tr>\n",
              "      <th>0</th>\n",
              "      <td>2.00</td>\n",
              "      <td>2.684493</td>\n",
              "    </tr>\n",
              "    <tr>\n",
              "      <th>1</th>\n",
              "      <td>4.50</td>\n",
              "      <td>4.345575</td>\n",
              "    </tr>\n",
              "    <tr>\n",
              "      <th>2</th>\n",
              "      <td>2.02</td>\n",
              "      <td>2.546081</td>\n",
              "    </tr>\n",
              "    <tr>\n",
              "      <th>3</th>\n",
              "      <td>1.92</td>\n",
              "      <td>1.926799</td>\n",
              "    </tr>\n",
              "    <tr>\n",
              "      <th>4</th>\n",
              "      <td>4.00</td>\n",
              "      <td>2.635260</td>\n",
              "    </tr>\n",
              "  </tbody>\n",
              "</table>\n",
              "</div>\n",
              "      <button class=\"colab-df-convert\" onclick=\"convertToInteractive('df-4b9ce3ba-2ddb-45ad-858e-4e92dd986fd9')\"\n",
              "              title=\"Convert this dataframe to an interactive table.\"\n",
              "              style=\"display:none;\">\n",
              "        \n",
              "  <svg xmlns=\"http://www.w3.org/2000/svg\" height=\"24px\"viewBox=\"0 0 24 24\"\n",
              "       width=\"24px\">\n",
              "    <path d=\"M0 0h24v24H0V0z\" fill=\"none\"/>\n",
              "    <path d=\"M18.56 5.44l.94 2.06.94-2.06 2.06-.94-2.06-.94-.94-2.06-.94 2.06-2.06.94zm-11 1L8.5 8.5l.94-2.06 2.06-.94-2.06-.94L8.5 2.5l-.94 2.06-2.06.94zm10 10l.94 2.06.94-2.06 2.06-.94-2.06-.94-.94-2.06-.94 2.06-2.06.94z\"/><path d=\"M17.41 7.96l-1.37-1.37c-.4-.4-.92-.59-1.43-.59-.52 0-1.04.2-1.43.59L10.3 9.45l-7.72 7.72c-.78.78-.78 2.05 0 2.83L4 21.41c.39.39.9.59 1.41.59.51 0 1.02-.2 1.41-.59l7.78-7.78 2.81-2.81c.8-.78.8-2.07 0-2.86zM5.41 20L4 18.59l7.72-7.72 1.47 1.35L5.41 20z\"/>\n",
              "  </svg>\n",
              "      </button>\n",
              "      \n",
              "  <style>\n",
              "    .colab-df-container {\n",
              "      display:flex;\n",
              "      flex-wrap:wrap;\n",
              "      gap: 12px;\n",
              "    }\n",
              "\n",
              "    .colab-df-convert {\n",
              "      background-color: #E8F0FE;\n",
              "      border: none;\n",
              "      border-radius: 50%;\n",
              "      cursor: pointer;\n",
              "      display: none;\n",
              "      fill: #1967D2;\n",
              "      height: 32px;\n",
              "      padding: 0 0 0 0;\n",
              "      width: 32px;\n",
              "    }\n",
              "\n",
              "    .colab-df-convert:hover {\n",
              "      background-color: #E2EBFA;\n",
              "      box-shadow: 0px 1px 2px rgba(60, 64, 67, 0.3), 0px 1px 3px 1px rgba(60, 64, 67, 0.15);\n",
              "      fill: #174EA6;\n",
              "    }\n",
              "\n",
              "    [theme=dark] .colab-df-convert {\n",
              "      background-color: #3B4455;\n",
              "      fill: #D2E3FC;\n",
              "    }\n",
              "\n",
              "    [theme=dark] .colab-df-convert:hover {\n",
              "      background-color: #434B5C;\n",
              "      box-shadow: 0px 1px 3px 1px rgba(0, 0, 0, 0.15);\n",
              "      filter: drop-shadow(0px 1px 2px rgba(0, 0, 0, 0.3));\n",
              "      fill: #FFFFFF;\n",
              "    }\n",
              "  </style>\n",
              "\n",
              "      <script>\n",
              "        const buttonEl =\n",
              "          document.querySelector('#df-4b9ce3ba-2ddb-45ad-858e-4e92dd986fd9 button.colab-df-convert');\n",
              "        buttonEl.style.display =\n",
              "          google.colab.kernel.accessAllowed ? 'block' : 'none';\n",
              "\n",
              "        async function convertToInteractive(key) {\n",
              "          const element = document.querySelector('#df-4b9ce3ba-2ddb-45ad-858e-4e92dd986fd9');\n",
              "          const dataTable =\n",
              "            await google.colab.kernel.invokeFunction('convertToInteractive',\n",
              "                                                     [key], {});\n",
              "          if (!dataTable) return;\n",
              "\n",
              "          const docLinkHtml = 'Like what you see? Visit the ' +\n",
              "            '<a target=\"_blank\" href=https://colab.research.google.com/notebooks/data_table.ipynb>data table notebook</a>'\n",
              "            + ' to learn more about interactive tables.';\n",
              "          element.innerHTML = '';\n",
              "          dataTable['output_type'] = 'display_data';\n",
              "          await google.colab.output.renderOutput(dataTable, element);\n",
              "          const docLink = document.createElement('div');\n",
              "          docLink.innerHTML = docLinkHtml;\n",
              "          element.appendChild(docLink);\n",
              "        }\n",
              "      </script>\n",
              "    </div>\n",
              "  </div>\n",
              "  "
            ]
          },
          "metadata": {},
          "execution_count": 21
        }
      ]
    },
    {
      "cell_type": "markdown",
      "source": [
        "**Calculating Error Metrics**\n",
        "\n",
        "![image.png](data:image/png;base64,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)\n",
        "\n",
        "All of these can be easily calculated using the \"metrics\" class of the sklearn module"
      ],
      "metadata": {
        "id": "-1CUiZVOCB5v"
      }
    },
    {
      "cell_type": "code",
      "source": [
        "import sklearn.metrics as metrics\n",
        "print(metrics.mean_absolute_error(comparison_df1['Actual'],comparison_df1['Predicted']))\n",
        "print(metrics.mean_squared_error(comparison_df1['Actual'],comparison_df1['Predicted']))\n",
        "print(np.sqrt(metrics.mean_squared_error(comparison_df1['Actual'],comparison_df1['Predicted'])))"
      ],
      "metadata": {
        "colab": {
          "base_uri": "https://localhost:8080/"
        },
        "id": "lENVpXJQCZIv",
        "outputId": "e68f4ca1-261d-4b2b-c8a7-2851bb539acf"
      },
      "execution_count": null,
      "outputs": [
        {
          "output_type": "stream",
          "name": "stdout",
          "text": [
            "0.8131735910252724\n",
            "1.2238348063188067\n",
            "1.1062706749791422\n"
          ]
        }
      ]
    },
    {
      "cell_type": "code",
      "source": [
        "print(metrics.mean_absolute_error(comparison_df2['Actual'],comparison_df2['Predicted']))\n",
        "print(metrics.mean_squared_error(comparison_df2['Actual'],comparison_df2['Predicted']))\n",
        "print(np.sqrt(metrics.mean_squared_error(comparison_df2['Actual'],comparison_df2['Predicted'])))"
      ],
      "metadata": {
        "colab": {
          "base_uri": "https://localhost:8080/"
        },
        "id": "DqX3Hw_7p77k",
        "outputId": "1562a551-2972-4292-f7d6-ac4eb8c9872e"
      },
      "execution_count": null,
      "outputs": [
        {
          "output_type": "stream",
          "name": "stdout",
          "text": [
            "0.7540252354950715\n",
            "1.2272426906406642\n",
            "1.1078098621336896\n"
          ]
        }
      ]
    },
    {
      "cell_type": "markdown",
      "source": [
        "**Now we visualize our model's predictions**\n",
        "\n",
        "> 1) Plot Actual vs. Predicted tip values"
      ],
      "metadata": {
        "id": "3g4LXc3OE5DC"
      }
    },
    {
      "cell_type": "code",
      "source": [
        "plt.figure(1,(6,5))\n",
        "plt.title('Actual vs Predicted tips')\n",
        "sns.scatterplot(data = comparison_df1, x = 'Actual',y = 'Predicted')\n",
        "plt.show()"
      ],
      "metadata": {
        "colab": {
          "base_uri": "https://localhost:8080/",
          "height": 350
        },
        "id": "WeaE3MIvFVLw",
        "outputId": "f60876f7-5819-4ff0-ab88-2f772a4b7a7a"
      },
      "execution_count": null,
      "outputs": [
        {
          "output_type": "display_data",
          "data": {
            "text/plain": [
              "<Figure size 432x360 with 1 Axes>"
            ],
            "image/png": "[encoded data removed]"
          },
          "metadata": {
            "needs_background": "light"
          }
        }
      ]
    },
    {
      "cell_type": "code",
      "source": [
        "plt.figure(1,(6,5))\n",
        "plt.title('Actual vs Predicted tips')\n",
        "sns.scatterplot(data = comparison_df2, x = 'Actual',y = 'Predicted')\n",
        "plt.show()"
      ],
      "metadata": {
        "colab": {
          "base_uri": "https://localhost:8080/",
          "height": 350
        },
        "id": "1Xl-oGeAlNtk",
        "outputId": "74d11c26-b6d6-49c9-c5f3-4ff4b15733b7"
      },
      "execution_count": null,
      "outputs": [
        {
          "output_type": "display_data",
          "data": {
            "text/plain": [
              "<Figure size 432x360 with 1 Axes>"
            ],
            "image/png": "[encoded data removed]"
          },
          "metadata": {
            "needs_background": "light"
          }
        }
      ]
    },
    {
      "cell_type": "markdown",
      "source": [
        "From the Scatterplot it can be seen that the points are not very much clustered together in a straight line, which helps us understand that the model is not much accurate and there is a big enough disparity between the actual value and predicted value"
      ],
      "metadata": {
        "id": "b14pcI65Gfft"
      }
    },
    {
      "cell_type": "markdown",
      "source": [
        "> 2) Plot total_bill vs. Actual tip values with regression line"
      ],
      "metadata": {
        "id": "tBYll8UMJp0Q"
      }
    },
    {
      "cell_type": "code",
      "source": [
        "plt.figure(1,(6,5))\n",
        "plt.title('Total Bill vs Actual tips')\n",
        "sns.scatterplot(x = X_test.flatten(),y = y_test.flatten())\n",
        "plt.plot(X_test.flatten(), predictions_1.flatten(), color = 'green', label = 'Regression Line')\n",
        "plt.legend()\n",
        "plt.show()"
      ],
      "metadata": {
        "colab": {
          "base_uri": "https://localhost:8080/",
          "height": 336
        },
        "id": "JRTSOk2FHfHl",
        "outputId": "ead86756-fc25-4097-ff9f-8e6def84777e"
      },
      "execution_count": null,
      "outputs": [
        {
          "output_type": "display_data",
          "data": {
            "text/plain": [
              "<Figure size 432x360 with 1 Axes>"
            ],
            "image/png": "[encoded data removed]"
          },
          "metadata": {
            "needs_background": "light"
          }
        }
      ]
    }
  ]
}